{
 "cells": [
  {
   "cell_type": "code",
   "execution_count": 1,
   "metadata": {},
   "outputs": [
    {
     "name": "stderr",
     "output_type": "stream",
     "text": [
      "/home/daibak/.virtualenvs/aca/lib/python3.6/site-packages/h5py/__init__.py:36: FutureWarning: Conversion of the second argument of issubdtype from `float` to `np.floating` is deprecated. In future, it will be treated as `np.float64 == np.dtype(float).type`.\n",
      "  from ._conv import register_converters as _register_converters\n"
     ]
    }
   ],
   "source": [
    "\"\"\"This module provides utilities to download, init and load cifar10 dataset.\"\"\"\n",
    "\n",
    "from pathlib import Path\n",
    "\n",
    "import h5py\n",
    "import numpy as np\n",
    "import tensorflow as tf\n",
    "from tensorflow import keras\n",
    "\n",
    "DATA_URL = 'https://www.cs.toronto.edu/~kriz/cifar-10-python.tar.gz'\n",
    "DATA_DIR = 'cnn/data'\n",
    "DATASET_FILE = 'cifar10.h5'\n",
    "\n",
    "\n",
    "def load_dataset_as_tensors():\n",
    "    \"\"\"Load dataset from h5 (not lazily).\"\"\"\n",
    "\n",
    "    h5_filename = Path(DATA_DIR) / DATASET_FILE\n",
    "    with h5py.File(h5_filename.absolute(), 'r') as ds:\n",
    "        return (ds['data/train'][()], ds['label/train'][()],\n",
    "                ds['data/test'][()], ds['label/test'][()])\n",
    "\n",
    "\n",
    "def preprocess_dataset(x_train, t_train, x_test, t_test, NCHW=False):\n",
    "    \"\"\"Preprocess dataset: label -> one hot encodeing, transpose if not in NCHW order.\"\"\"\n",
    "\n",
    "    t_train = keras.utils.to_categorical(t_train).astype(np.uint8)\n",
    "    t_test = keras.utils.to_categorical(t_test).astype(np.uint8)\n",
    "\n",
    "    if not NCHW:\n",
    "        return (x_train.transpose(0, 2, 3, 1), t_train,\n",
    "                x_test.transpose(0, 2, 3, 1), t_test)\n",
    "    else:\n",
    "        return (x_train, t_train,\n",
    "                x_test, t_test)"
   ]
  },
  {
   "cell_type": "code",
   "execution_count": 2,
   "metadata": {},
   "outputs": [],
   "source": [
    "x_train, t_train, x_test, t_test = load_dataset_as_tensors()"
   ]
  },
  {
   "cell_type": "code",
   "execution_count": 3,
   "metadata": {},
   "outputs": [
    {
     "data": {
      "text/plain": [
       "((50000, 3, 32, 32), (50000,), (10000, 3, 32, 32), (10000,))"
      ]
     },
     "execution_count": 3,
     "metadata": {},
     "output_type": "execute_result"
    }
   ],
   "source": [
    "x_train.shape, t_train.shape, x_test.shape, t_test.shape"
   ]
  },
  {
   "cell_type": "code",
   "execution_count": 4,
   "metadata": {},
   "outputs": [],
   "source": [
    "x_train, t_train, x_test, t_test = preprocess_dataset(x_train, t_train, x_test, t_test)"
   ]
  },
  {
   "cell_type": "code",
   "execution_count": 5,
   "metadata": {},
   "outputs": [
    {
     "data": {
      "text/plain": [
       "((50000, 32, 32, 3), (50000, 10), (10000, 32, 32, 3), (10000, 10))"
      ]
     },
     "execution_count": 5,
     "metadata": {},
     "output_type": "execute_result"
    }
   ],
   "source": [
    "x_train.shape, t_train.shape, x_test.shape, t_test.shape"
   ]
  },
  {
   "cell_type": "code",
   "execution_count": null,
   "metadata": {},
   "outputs": [],
   "source": [
    "N_TRAIN_SAMPLES = x_train.shape[0]\n",
    "N_TEST_SAMPLES = x_test.shape[0]\n",
    "BATCH_SIZE = 64\n",
    "\n",
    "model = keras.Sequential(\n",
    "    name='dense_cnn',\n",
    "    layers=[\n",
    "        keras.layers.Conv2D(\n",
    "            32,\n",
    "            5,\n",
    "            input_shape=(32, 32, 3),\n",
    "            padding='same',\n",
    "            activation=tf.nn.relu),\n",
    "        keras.layers.MaxPooling2D((2, 2), (2, 2), padding='same'),\n",
    "        keras.layers.Conv2D(64, 5, padding='same', activation=tf.nn.relu),\n",
    "        keras.layers.MaxPooling2D((2, 2), (2, 2), padding='same'),\n",
    "        keras.layers.Flatten(),\n",
    "        keras.layers.Dense(1024, activation=tf.nn.relu),\n",
    "        keras.layers.Dropout(0.4),\n",
    "        keras.layers.Dense(10, activation=tf.nn.softmax)\n",
    "    ])\n",
    "\n",
    "model.compile(\n",
    "    loss='categorical_crossentropy',\n",
    "    optimizer='sgd',\n",
    "    metrics=['accuracy', keras.metrics.mean_squared_error])"
   ]
  },
  {
   "cell_type": "code",
   "execution_count": null,
   "metadata": {},
   "outputs": [],
   "source": [
    "hist = model.fit(\n",
    "    x=x_train,\n",
    "    y=t_train,\n",
    "    batch_size=BATCH_SIZE,\n",
    "    epochs=3,\n",
    "    validation_split=0.2,\n",
    "    shuffle=False,\n",
    "    initial_epoch=2)"
   ]
  },
  {
   "cell_type": "code",
   "execution_count": 22,
   "metadata": {},
   "outputs": [],
   "source": [
    "hist.history"
   ]
  }
 ],
 "metadata": {
  "kernelspec": {
   "display_name": "aca",
   "language": "python",
   "name": "aca"
  },
  "language_info": {
   "codemirror_mode": {
    "name": "ipython",
    "version": 3
   },
   "file_extension": ".py",
   "mimetype": "text/x-python",
   "name": "python",
   "nbconvert_exporter": "python",
   "pygments_lexer": "ipython3",
   "version": "3.6.5"
  }
 },
 "nbformat": 4,
 "nbformat_minor": 2
}
