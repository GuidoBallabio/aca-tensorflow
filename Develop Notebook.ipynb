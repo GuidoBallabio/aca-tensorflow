{
 "cells": [
  {
   "cell_type": "markdown",
   "metadata": {},
   "source": [
    "# CNN for Cifar-10 Dataset"
   ]
  },
  {
   "cell_type": "markdown",
   "metadata": {},
   "source": [
    "## Requirements"
   ]
  },
  {
   "cell_type": "markdown",
   "metadata": {},
   "source": [
    "For this project we are used:\n",
    "* Python 3.6\n",
    "* Tensorflow 1.8.0\n",
    "* *GPUs parallel calculation manager* nVidia CUDA 9.0\n",
    "* *GPU-accelerated library* nVidia cuDNN 7.1\n",
    "* or CPU optimized tensorflow for intel"
   ]
  },
  {
   "cell_type": "markdown",
   "metadata": {},
   "source": [
    "## Introduction"
   ]
  },
  {
   "cell_type": "markdown",
   "metadata": {},
   "source": [
    "In this first notebook we are going to explain how we have set up our work.  \n",
    "Essentially the process is divided into several parts:\n",
    "* Set up environment with the Cifar-10 Dataset\n",
    "* Define a convolutional neural network\n",
    "* Define a quantization method\n",
    "* Train the convolutional neural network\n",
    "* Provide information about CNN's performance and accuracy"
   ]
  },
  {
   "cell_type": "code",
   "execution_count": 1,
   "metadata": {},
   "outputs": [
    {
     "name": "stderr",
     "output_type": "stream",
     "text": [
      "/home/m/myvenv3/lib/python3.6/site-packages/h5py/__init__.py:36: FutureWarning: Conversion of the second argument of issubdtype from `float` to `np.floating` is deprecated. In future, it will be treated as `np.float64 == np.dtype(float).type`.\n",
      "  from ._conv import register_converters as _register_converters\n"
     ]
    }
   ],
   "source": [
    "import numpy as np\n",
    "import tensorflow as tf"
   ]
  },
  {
   "cell_type": "markdown",
   "metadata": {},
   "source": [
    "## Cifar-10 Dataset"
   ]
  },
  {
   "cell_type": "markdown",
   "metadata": {},
   "source": [
    "Cifar-10 Dataset is taken from the official website www.cs.toronto.edu.\n",
    "\n",
    "Dataset is stored in the data directory: cnn/data. From Cifar-10 dataset we are going to take x_train, t_train, x_test and t_test.\n",
    "The training dataset set is used for training the CNN, the testing dataset is used for evaluate the performance and the accuracy of the network."
   ]
  },
  {
   "cell_type": "markdown",
   "metadata": {},
   "source": [
    "### Load data"
   ]
  },
  {
   "cell_type": "code",
   "execution_count": 2,
   "metadata": {},
   "outputs": [],
   "source": [
    "from cnn.dense import dataset_preprocessing_by_keras\n",
    "from cnn.utils.dataset import load_cifar10"
   ]
  },
  {
   "cell_type": "code",
   "execution_count": 3,
   "metadata": {},
   "outputs": [],
   "source": [
    "x_train, t_train, x_test, t_test = load_cifar10()"
   ]
  },
  {
   "cell_type": "code",
   "execution_count": 4,
   "metadata": {},
   "outputs": [
    {
     "data": {
      "text/plain": [
       "((50000, 32, 32, 3), (50000, 10), (10000, 32, 32, 3), (10000, 10))"
      ]
     },
     "execution_count": 4,
     "metadata": {},
     "output_type": "execute_result"
    }
   ],
   "source": [
    "x_train.shape, t_train.shape, x_test.shape, t_test.shape"
   ]
  },
  {
   "cell_type": "code",
   "execution_count": 5,
   "metadata": {},
   "outputs": [
    {
     "data": {
      "text/plain": [
       "array([[-0.68747891, -0.65572952, -0.63985482, ..., -0.95734874,\n",
       "        -1.00497283, -0.92559935],\n",
       "       [-0.65572952, -0.63985482, -0.59223073, ..., -0.92559935,\n",
       "        -1.02084753, -0.86210057],\n",
       "       [-0.7192283 , -0.63985482, -0.65572952, ..., -0.68747891,\n",
       "        -0.735103  , -0.70335361],\n",
       "       ...,\n",
       "       [-0.36998499, -0.7509777 , -1.00497283, ..., -0.25886212,\n",
       "        -0.24298742, -0.14773924],\n",
       "       [-0.25886212, -0.65572952, -1.19546919, ...,  0.31262694,\n",
       "        -0.00486698, -0.49698256],\n",
       "       [-0.27473681, -0.35411029, -1.11609571, ...,  0.75711843,\n",
       "         0.64599556,  0.28087755]])"
      ]
     },
     "execution_count": 5,
     "metadata": {},
     "output_type": "execute_result"
    }
   ],
   "source": [
    "x_train = dataset_preprocessing_by_keras(x_train)\n",
    "x_train[0, :, :, 0]"
   ]
  },
  {
   "cell_type": "markdown",
   "metadata": {},
   "source": [
    "## CNN Model and Training"
   ]
  },
  {
   "cell_type": "markdown",
   "metadata": {},
   "source": [
    "We will use a custom made wrapper for tensorfllow NN training and use"
   ]
  },
  {
   "cell_type": "code",
   "execution_count": 6,
   "metadata": {},
   "outputs": [],
   "source": [
    "from cnn.model_class import TfClassifier"
   ]
  },
  {
   "cell_type": "markdown",
   "metadata": {},
   "source": [
    "This CNN is called *dense_cnn*. Here we will explain how it is composed.\n",
    "\n",
    "The CNN is composed by several layers. In the first part there are 2 **convolutional** layers and 2 **pooling** layers (they are alternated), then there are a *flatten* layer followed by a **relu** layer, a *dropout* layer and finally a **softmax** layer.\n",
    "\n",
    "The network uses a stochastic gradient descent optimizer and a categorical crossentropy loss.  \n",
    "To judge the performance of our model we are used a MSE metric."
   ]
  },
  {
   "cell_type": "code",
   "execution_count": 7,
   "metadata": {},
   "outputs": [],
   "source": [
    "from cnn.dense import NET_NAME, eval_fn, forward_pass, loss_fn"
   ]
  },
  {
   "cell_type": "code",
   "execution_count": 8,
   "metadata": {},
   "outputs": [],
   "source": [
    "model = TfClassifier(NET_NAME, forward_pass, loss_fn, eval_fn,\n",
    "                     tf.train.AdamOptimizer())"
   ]
  },
  {
   "cell_type": "markdown",
   "metadata": {},
   "source": [
    "This network is trained for 50 epochs."
   ]
  },
  {
   "cell_type": "code",
   "execution_count": 9,
   "metadata": {},
   "outputs": [
    {
     "name": "stdout",
     "output_type": "stream",
     "text": [
      "For training: tensorboard --logdir=/tmp/log-tb/dense_cnn/training\n",
      "For validation: tensorboard --logdir=/tmp/log-tb/dense_cnn/validation\n",
      "{'logits': (array([[-1.2258677 , -3.6021073 ,  2.8100097 , ..., -0.8590393 ,\n",
      "        -4.372263  , -3.8334594 ],\n",
      "       [ 2.4543028 ,  3.422716  , -1.3100829 , ..., -2.0255888 ,\n",
      "         0.8160184 ,  1.5989125 ],\n",
      "       [-0.3065187 , -3.2730298 ,  2.007834  , ...,  0.04596729,\n",
      "        -2.8583841 , -2.3491793 ],\n",
      "       ...,\n",
      "       [-1.4331489 , -2.9170594 ,  0.8903945 , ...,  2.2401001 ,\n",
      "        -4.2348256 , -1.2472872 ],\n",
      "       [ 1.341874  , -1.9891791 , -0.43798268, ...,  0.37113553,\n",
      "        -1.6154269 , -1.2536998 ],\n",
      "       [ 1.2228539 , -1.3998467 ,  0.83702004, ..., -2.7803695 ,\n",
      "         4.902955  , -0.24045004]], dtype=float32),), 'classes': (array([4, 1, 2, ..., 5, 4, 8]),), 'probabilities': (array([[5.0716787e-03, 4.7115510e-04, 2.8701919e-01, ..., 7.3191929e-03,\n",
      "        2.1811697e-04, 3.7384286e-04],\n",
      "       [2.2911222e-01, 6.0342699e-01, 5.3112460e-03, ..., 2.5969052e-03,\n",
      "        4.4519510e-02, 9.7399555e-02],\n",
      "       [3.2059170e-02, 1.6504901e-03, 3.2438660e-01, ..., 4.5607373e-02,\n",
      "        2.4985683e-03, 4.1575367e-03],\n",
      "       ...,\n",
      "       [5.9778881e-03, 1.3554816e-03, 6.1044984e-02, ..., 2.3540717e-01,\n",
      "        3.6290678e-04, 7.1989088e-03],\n",
      "       [2.2553460e-01, 8.0640884e-03, 3.8039185e-02, ..., 8.5433222e-02,\n",
      "        1.1718547e-02, 1.6825572e-02],\n",
      "       [2.3798924e-02, 1.7279572e-03, 1.6180493e-02, ..., 4.3448957e-04,\n",
      "        9.4363695e-01, 5.5087437e-03]], dtype=float32),), 'accuracy': ((0.5964, 0.5912),), 'mse': ((5.9800663, 6.1189814),), 'loss': (1.1435896,), 'summaries': (b'\\n\\x0b\\n\\x04loss\\x15%a\\x92?\\n\\x11\\n\\naccuracy_1\\x15\\xac\\xad\\x18?\\n\\n\\n\\x03mse\\x15\\xb4\\\\\\xbf@',)}\n"
     ]
    }
   ],
   "source": [
    "history = model.fit(\n",
    "   [x_train, t_train],\n",
    "   batch_size=64,\n",
    "   validation_split=0.1,\n",
    "   epochs=1,\n",
    "   verbosity=1)\n",
    "\n",
    "print(history)"
   ]
  },
  {
   "cell_type": "markdown",
   "metadata": {},
   "source": [
    "Then it's evaluated"
   ]
  },
  {
   "cell_type": "code",
   "execution_count": 10,
   "metadata": {},
   "outputs": [
    {
     "name": "stdout",
     "output_type": "stream",
     "text": [
      "INFO:tensorflow:Restoring parameters from /home/m/Scrivania/aca-tensorflow/cnn/models/dense_cnn/model.ckpt\n",
      "[{'logits': array([[ 182.26703  ,  -95.602104 ,   61.27622  , ..., -125.16448  ,\n",
      "          69.58104  ,  -89.89552  ],\n",
      "       [   8.828863 ,  -82.86985  ,   -1.822132 , ...,  -35.402565 ,\n",
      "          40.543903 ,  -90.63861  ],\n",
      "       [ 214.06294  ,  -24.52956  ,   12.136899 , ..., -151.3575   ,\n",
      "         225.9297   ,   12.841366 ],\n",
      "       ...,\n",
      "       [  -7.431719 ,   81.327675 ,  -54.331882 , ...,   -0.8675527,\n",
      "          42.25553  ,   76.397194 ],\n",
      "       [  74.825356 ,  191.86877  , -127.94122  , ...,  -38.18188  ,\n",
      "          77.543785 ,  236.25174  ],\n",
      "       [  47.4059   ,   43.46117  ,  -14.420177 , ...,  -81.07937  ,\n",
      "         149.17723  ,   91.89786  ]], dtype=float32), 'classes': array([0, 3, 8, ..., 1, 9, 8]), 'probabilities': array([[1.0000000e+00, 0.0000000e+00, 0.0000000e+00, ..., 0.0000000e+00,\n",
      "        0.0000000e+00, 0.0000000e+00],\n",
      "       [2.7809909e-24, 0.0000000e+00, 6.5846383e-29, ..., 0.0000000e+00,\n",
      "        1.6514573e-10, 0.0000000e+00],\n",
      "       [7.0198598e-06, 0.0000000e+00, 0.0000000e+00, ..., 0.0000000e+00,\n",
      "        9.9999297e-01, 0.0000000e+00],\n",
      "       ...,\n",
      "       [0.0000000e+00, 9.9282879e-01, 0.0000000e+00, ..., 1.9949875e-36,\n",
      "        1.0667386e-17, 7.1712309e-03],\n",
      "       [0.0000000e+00, 5.3054615e-20, 0.0000000e+00, ..., 0.0000000e+00,\n",
      "        0.0000000e+00, 1.0000000e+00],\n",
      "       [0.0000000e+00, 0.0000000e+00, 0.0000000e+00, ..., 0.0000000e+00,\n",
      "        1.0000000e+00, 1.3301001e-25]], dtype=float32), 'accuracy': (0.0, 0.3015), 'mse': (0.0, 19425.586), 'loss': 76.38758, 'summaries': b'\\n\\x0b\\n\\x04loss\\x15q\\xc6\\x98B\\n\\x11\\n\\naccuracy_1\\x15\\x00\\x00\\x00\\x00\\n\\n\\n\\x03mse\\x15\\x00\\x00\\x00\\x00'}, {'logits': array([[  47.22691  ,  -29.531754 ,  -54.752983 , ...,  -58.551067 ,\n",
      "         137.78755  ,   66.686905 ],\n",
      "       [ 244.291    ,   47.995647 ,  -59.863422 , ..., -169.51958  ,\n",
      "         257.78278  ,   90.68418  ],\n",
      "       [  32.529366 ,  -38.826817 ,   -1.7411126, ...,   37.002323 ,\n",
      "          28.877378 ,   27.027052 ],\n",
      "       ...,\n",
      "       [  73.266304 ,   35.392036 , -109.87156  , ...,   19.251    ,\n",
      "          60.286682 ,  202.85535  ],\n",
      "       [ 102.424545 ,   -3.3347778,   34.67168  , ..., -123.17589  ,\n",
      "         176.53946  ,  -52.84004  ],\n",
      "       [ 134.2789   ,   32.881706 ,   29.385546 , ..., -134.3015   ,\n",
      "          93.910965 ,   -9.317152 ]], dtype=float32), 'classes': array([8, 8, 7, ..., 9, 8, 0]), 'probabilities': array([[0.0000000e+00, 0.0000000e+00, 0.0000000e+00, ..., 0.0000000e+00,\n",
      "        1.0000000e+00, 1.3224563e-31],\n",
      "       [1.3822790e-06, 0.0000000e+00, 0.0000000e+00, ..., 0.0000000e+00,\n",
      "        9.9999857e-01, 0.0000000e+00],\n",
      "       [1.1280728e-02, 1.1554230e-33, 1.4752238e-17, ..., 9.8836631e-01,\n",
      "        2.9261681e-04, 4.5995217e-05],\n",
      "       ...,\n",
      "       [0.0000000e+00, 0.0000000e+00, 0.0000000e+00, ..., 0.0000000e+00,\n",
      "        0.0000000e+00, 1.0000000e+00],\n",
      "       [6.4908543e-33, 0.0000000e+00, 0.0000000e+00, ..., 0.0000000e+00,\n",
      "        1.0000000e+00, 0.0000000e+00],\n",
      "       [1.0000000e+00, 0.0000000e+00, 0.0000000e+00, ..., 0.0000000e+00,\n",
      "        2.9405495e-18, 0.0000000e+00]], dtype=float32), 'accuracy': (0.3015, 0.304), 'mse': (19425.586, 19635.934), 'loss': 76.756, 'summaries': b'\\n\\x0b\\n\\x04loss\\x15\\x12\\x83\\x99B\\n\\x11\\n\\naccuracy_1\\x155^\\x9a>\\n\\n\\n\\x03mse\\x15,\\xc3\\x97F'}, {'logits': array([[ 265.51453  ,   40.993683 ,    5.737354 , ..., -117.908485 ,\n",
      "         179.26918  ,   80.26921  ],\n",
      "       [ 476.4078   ,   96.1736   ,  -57.95635  , ..., -146.22339  ,\n",
      "         209.12311  ,  213.09344  ],\n",
      "       [ 311.30692  ,  127.77862  ,  -54.850143 , ..., -123.09779  ,\n",
      "         194.93384  ,  115.19681  ],\n",
      "       ...,\n",
      "       [  88.10689  ,   72.53177  ,   10.230921 , ...,  -51.484985 ,\n",
      "          12.24805  ,    7.54343  ],\n",
      "       [   5.076165 ,   -8.208816 ,    6.4911733, ..., -125.60219  ,\n",
      "         -46.858532 ,  -43.945263 ],\n",
      "       [  94.32139  ,  127.54284  ,  -24.762575 , ..., -130.74431  ,\n",
      "         184.29585  ,   39.434128 ]], dtype=float32), 'classes': array([0, 0, 0, ..., 0, 3, 8]), 'probabilities': array([[1.00000000e+00, 0.00000000e+00, 0.00000000e+00, ...,\n",
      "        0.00000000e+00, 3.50043572e-38, 0.00000000e+00],\n",
      "       [1.00000000e+00, 0.00000000e+00, 0.00000000e+00, ...,\n",
      "        0.00000000e+00, 0.00000000e+00, 0.00000000e+00],\n",
      "       [1.00000000e+00, 0.00000000e+00, 0.00000000e+00, ...,\n",
      "        0.00000000e+00, 0.00000000e+00, 0.00000000e+00],\n",
      "       ...,\n",
      "       [9.99999881e-01, 1.72112223e-07, 1.50971977e-34, ...,\n",
      "        0.00000000e+00, 1.13481205e-33, 1.02738508e-35],\n",
      "       [6.48140255e-33, 0.00000000e+00, 2.66808330e-32, ...,\n",
      "        0.00000000e+00, 0.00000000e+00, 0.00000000e+00],\n",
      "       [0.00000000e+00, 2.25153845e-25, 0.00000000e+00, ...,\n",
      "        0.00000000e+00, 1.00000000e+00, 0.00000000e+00]], dtype=float32), 'accuracy': (0.304, 0.3075), 'mse': (19635.934, 19556.586), 'loss': 74.19099, 'summaries': b'\\n\\x0b\\n\\x04loss\\x15\\xc9a\\x94B\\n\\x11\\n\\naccuracy_1\\x15\\xe3\\xa5\\x9b>\\n\\n\\n\\x03mse\\x15\\xdeg\\x99F'}, {'logits': array([[ 100.6503   ,  -39.537254 ,   15.604476 , ...,  -84.55407  ,\n",
      "           6.122406 ,  -23.653694 ],\n",
      "       [ -36.501556 , -107.67978  ,  -71.84685  , ...,   93.86744  ,\n",
      "          19.365883 ,   56.401836 ],\n",
      "       [  93.74312  ,   13.667314 ,   25.316898 , ...,  -34.37321  ,\n",
      "          32.491825 ,   11.874399 ],\n",
      "       ...,\n",
      "       [  -7.3614526, -218.94115  ,   60.45684  , ...,   59.2367   ,\n",
      "         -29.767357 ,  -50.010136 ],\n",
      "       [ 152.99966  ,  127.1465   ,   -1.7650291, ..., -202.78021  ,\n",
      "         111.33547  ,  116.30569  ],\n",
      "       [  12.321436 ,   13.13582  ,  -28.705347 , ..., -145.27487  ,\n",
      "          60.286186 ,   28.343626 ]], dtype=float32), 'classes': array([0, 7, 0, ..., 5, 0, 6]), 'probabilities': array([[1.0000000e+00, 0.0000000e+00, 1.1616325e-37, ..., 0.0000000e+00,\n",
      "        0.0000000e+00, 0.0000000e+00],\n",
      "       [0.0000000e+00, 0.0000000e+00, 0.0000000e+00, ..., 1.0000000e+00,\n",
      "        4.4094575e-33, 5.3566764e-17],\n",
      "       [1.0000000e+00, 1.6730906e-35, 1.9180884e-30, ..., 0.0000000e+00,\n",
      "        2.5055401e-27, 2.7852632e-36],\n",
      "       ...,\n",
      "       [0.0000000e+00, 0.0000000e+00, 4.4646548e-32, ..., 1.3179081e-32,\n",
      "        0.0000000e+00, 0.0000000e+00],\n",
      "       [1.0000000e+00, 5.9171591e-12, 0.0000000e+00, ..., 0.0000000e+00,\n",
      "        8.0439846e-19, 1.1587990e-16],\n",
      "       [0.0000000e+00, 0.0000000e+00, 0.0000000e+00, ..., 0.0000000e+00,\n",
      "        1.7174151e-24, 2.3035545e-38]], dtype=float32), 'accuracy': (0.3075, 0.304), 'mse': (19556.586, 19618.72), 'loss': 75.44924, 'summaries': b'\\n\\x0b\\n\\x04loss\\x15\\x03\\xe6\\x96B\\n\\x11\\n\\naccuracy_1\\x15\\xa4p\\x9d>\\n\\n\\n\\x03mse\\x15,\\xc9\\x98F'}, {'logits': array([[  14.080973  ,   62.900993  ,  -31.754507  , ...,  -95.94874   ,\n",
      "          20.971176  ,   67.70301   ],\n",
      "       [ 103.93598   , -145.41643   ,   49.693024  , ...,  -25.156738  ,\n",
      "         110.80445   ,   22.509548  ],\n",
      "       [  32.368286  ,   90.28048   ,  -33.49458   , ..., -146.59982   ,\n",
      "         123.516914  ,   81.35536   ],\n",
      "       ...,\n",
      "       [ 105.98681   ,   80.84816   ,  -98.944405  , ...,  -32.365738  ,\n",
      "         154.99562   ,  147.69171   ],\n",
      "       [ 134.55019   , -142.05074   ,  -66.71957   , ...,  -38.476116  ,\n",
      "         112.42045   ,   92.64435   ],\n",
      "       [  43.480457  ,   65.44892   ,    0.17417754, ...,  121.075874  ,\n",
      "          24.5624    ,  139.9275    ]], dtype=float32), 'classes': array([9, 8, 8, ..., 8, 0, 9]), 'probabilities': array([[5.1131866e-24, 8.1462562e-03, 0.0000000e+00, ..., 0.0000000e+00,\n",
      "        5.0242341e-21, 9.9185377e-01],\n",
      "       [1.0389873e-03, 0.0000000e+00, 2.8786765e-27, ..., 0.0000000e+00,\n",
      "        9.9896097e-01, 0.0000000e+00],\n",
      "       [0.0000000e+00, 3.6778984e-15, 0.0000000e+00, ..., 0.0000000e+00,\n",
      "        1.0000000e+00, 4.8918195e-19],\n",
      "       ...,\n",
      "       [5.1933937e-22, 6.2787723e-33, 0.0000000e+00, ..., 0.0000000e+00,\n",
      "        9.9932754e-01, 6.7245052e-04],\n",
      "       [1.0000000e+00, 0.0000000e+00, 0.0000000e+00, ..., 0.0000000e+00,\n",
      "        2.4500613e-10, 6.3172166e-19],\n",
      "       [0.0000000e+00, 4.5119242e-33, 0.0000000e+00, ..., 6.4989116e-09,\n",
      "        0.0000000e+00, 1.0000000e+00]], dtype=float32), 'accuracy': (0.304, 0.3087), 'mse': (19618.72, 19937.436), 'loss': 73.35739, 'summaries': b'\\n\\x0b\\n\\x04loss\\x15\\xfc\\xb6\\x92B\\n\\x11\\n\\naccuracy_1\\x15\\xe3\\xa5\\x9b>\\n\\n\\n\\x03mse\\x15qE\\x99F'}]\n"
     ]
    }
   ],
   "source": [
    "evals = model.evaluate([x_test, t_test])\n",
    "\n",
    "print(evals)"
   ]
  },
  {
   "cell_type": "markdown",
   "metadata": {},
   "source": [
    "## Tensorboard Results"
   ]
  },
  {
   "cell_type": "markdown",
   "metadata": {},
   "source": [
    "Here's a function made by us that plot tags data got from the last tensorboard session"
   ]
  },
  {
   "cell_type": "code",
   "execution_count": 11,
   "metadata": {},
   "outputs": [],
   "source": [
    "import matplotlib.pyplot as plt\n",
    "import glob\n",
    "\n",
    "def plot_from_tensorfboard (param, source):\n",
    "    files_in_dir = len(glob.glob(\"/tmp/log-tb/\" + NET_NAME + \"/\" + source + \"/*\"))\n",
    "    values = []\n",
    "    for e in tf.train.summary_iterator(glob.glob(\"/tmp/log-tb/\" + NET_NAME + \"/\" + source + \"/*\")[files_in_dir - 1]):\n",
    "        for v in e.summary.value:\n",
    "            if v.tag == param:\n",
    "                values.append(v.simple_value)\n",
    "    values = np.array(values)\n",
    "    plt.plot(values)\n",
    "    plt.show()"
   ]
  },
  {
   "cell_type": "markdown",
   "metadata": {},
   "source": [
    "Here's **loss** data plot, got from Tensorboard, for *training*:"
   ]
  },
  {
   "cell_type": "code",
   "execution_count": 12,
   "metadata": {},
   "outputs": [
    {
     "data": {
      "image/png": "[encoded data removed]",
      "text/plain": [
       "<Figure size 432x288 with 1 Axes>"
      ]
     },
     "metadata": {},
     "output_type": "display_data"
    }
   ],
   "source": [
    "plot_from_tensorfboard('loss','training')"
   ]
  },
  {
   "cell_type": "markdown",
   "metadata": {},
   "source": [
    "Here's **loss** data plot, got from Tensorboard, for *validation*:"
   ]
  },
  {
   "cell_type": "code",
   "execution_count": 13,
   "metadata": {},
   "outputs": [
    {
     "data": {
      "image/png": "[encoded data removed]",
      "text/plain": [
       "<Figure size 432x288 with 1 Axes>"
      ]
     },
     "metadata": {},
     "output_type": "display_data"
    }
   ],
   "source": [
    "plot_from_tensorfboard('loss','validation')"
   ]
  },
  {
   "cell_type": "markdown",
   "metadata": {},
   "source": [
    "Here's **mse** data plot, got from Tensorboard, for *training*:"
   ]
  },
  {
   "cell_type": "code",
   "execution_count": 14,
   "metadata": {},
   "outputs": [
    {
     "data": {
      "image/png": "[encoded data removed]",
      "text/plain": [
       "<Figure size 432x288 with 1 Axes>"
      ]
     },
     "metadata": {},
     "output_type": "display_data"
    }
   ],
   "source": [
    "plot_from_tensorfboard('mse','training')"
   ]
  },
  {
   "cell_type": "markdown",
   "metadata": {},
   "source": [
    "Here's **mse** data plot, got from Tensorboard, for *validation*:"
   ]
  },
  {
   "cell_type": "code",
   "execution_count": 15,
   "metadata": {},
   "outputs": [
    {
     "data": {
      "image/png": "[encoded data removed]",
      "text/plain": [
       "<Figure size 432x288 with 1 Axes>"
      ]
     },
     "metadata": {},
     "output_type": "display_data"
    }
   ],
   "source": [
    "plot_from_tensorfboard('mse','validation')"
   ]
  },
  {
   "cell_type": "markdown",
   "metadata": {},
   "source": [
    "Here's **accuracy** data plot, got from Tensorboard, for *training*:"
   ]
  },
  {
   "cell_type": "code",
   "execution_count": 16,
   "metadata": {},
   "outputs": [
    {
     "data": {
      "image/png": "[encoded data removed]",
      "text/plain": [
       "<Figure size 432x288 with 1 Axes>"
      ]
     },
     "metadata": {},
     "output_type": "display_data"
    }
   ],
   "source": [
    "plot_from_tensorfboard('accuracy_1','training')"
   ]
  },
  {
   "cell_type": "markdown",
   "metadata": {},
   "source": [
    "Here's **accuracy** data plot, got from Tensorboard, for *validation*:"
   ]
  },
  {
   "cell_type": "code",
   "execution_count": 17,
   "metadata": {},
   "outputs": [
    {
     "data": {
      "image/png": "[encoded data removed]",
      "text/plain": [
       "<Figure size 432x288 with 1 Axes>"
      ]
     },
     "metadata": {},
     "output_type": "display_data"
    }
   ],
   "source": [
    "plot_from_tensorfboard('accuracy_1','validation')"
   ]
  },
  {
   "cell_type": "markdown",
   "metadata": {},
   "source": [
    "### test"
   ]
  },
  {
   "cell_type": "code",
   "execution_count": null,
   "metadata": {},
   "outputs": [],
   "source": [
    "inputs = [x_train, t_train]\n",
    "input_names = [\"features\", \"labels\"]\n",
    "batch_size = 64\n",
    "validation_split = 0.2\n",
    "MAX_BATCH_SIZE = 2000\n",
    "\n",
    "n_samples = inputs[0].shape[0]\n",
    "\n",
    "input_tensors = input_names\n",
    "input_DL = dict(zip(input_tensors, inputs))\n",
    "\n",
    "input_LD = _split_data_dict_in_perc(input_DL, n_samples,\n",
    "                                    np.array([1 - validation_split]))\n",
    "\n",
    "train_dict = input_LD[0]\n",
    "val_dict = input_LD[1]\n",
    "\n",
    "n_train_samples = train_dict[input_tensors[0]].shape[0]\n",
    "\n",
    "train_LD = _batch_data_dict(train_dict, n_train_samples, batch_size)\n",
    "\n",
    "if n_samples - n_train_samples > MAX_BATCH_SIZE:\n",
    "    val_LD = _batch_data_dict(val_dict, n_samples - n_train_samples,\n",
    "                              MAX_BATCH_SIZE)\n",
    "else:\n",
    "    val_LD = [val_dict]\n",
    "\n",
    "train_LD = _set_train_mode_to_LD(train_LD, True)\n",
    "val_LD = _set_train_mode_to_LD(val_LD, False)"
   ]
  }
 ],
 "metadata": {
  "kernelspec": {
   "display_name": "Python myvenv3",
   "language": "python",
   "name": "myvenv3"
  },
  "language_info": {
   "codemirror_mode": {
    "name": "ipython",
    "version": 3
   },
   "file_extension": ".py",
   "mimetype": "text/x-python",
   "name": "python",
   "nbconvert_exporter": "python",
   "pygments_lexer": "ipython3",
   "version": "3.6.5"
  }
 },
 "nbformat": 4,
 "nbformat_minor": 2
}
