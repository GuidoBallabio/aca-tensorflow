{
 "cells": [
  {
   "cell_type": "markdown",
   "metadata": {},
   "source": [
    "# CNN for Cifar-10 Dataset"
   ]
  },
  {
   "cell_type": "markdown",
   "metadata": {},
   "source": [
    "## Introduction"
   ]
  },
  {
   "cell_type": "markdown",
   "metadata": {},
   "source": [
    "In this first notebook we are going to explain how we have set up our work.  \n",
    "Essentially the process is divided into several parts:\n",
    "* Set up environment with the Cifar-10 Dataset\n",
    "* Define a convolutional neural network\n",
    "* Define a quantization method\n",
    "* Train the convolutional neural network\n",
    "* Provide information about CNN's performance and accuracy"
   ]
  },
  {
   "cell_type": "markdown",
   "metadata": {},
   "source": [
    "### Requirements"
   ]
  },
  {
   "cell_type": "markdown",
   "metadata": {},
   "source": [
    "For this project we are used:\n",
    "* Python 3.6\n",
    "* Tensorflow 1.8.0\n",
    "* *GPUs parallel calculation manager* nVidia CUDA 9.0\n",
    "* *GPU-accelerated library* nVidia cuDNN 7.1\n",
    "* or CPU optimized tensorflow for intel"
   ]
  },
  {
   "cell_type": "code",
   "execution_count": 2,
   "metadata": {},
   "outputs": [],
   "source": [
    "import numpy as np\n",
    "import tensorflow as tf\n",
    "\n",
    "from cnn.dense import (eval_fn, forward_pass, loss_fn)\n",
    "from cnn.model_class import TfClassifier\n",
    "from cnn.utils.dataset import load_cifar10\n",
    "from cnn.utils.graph_manipulation import MODELS_DIR, load_frozen_graph"
   ]
  },
  {
   "cell_type": "markdown",
   "metadata": {},
   "source": [
    "## Cifar-10 Dataset"
   ]
  },
  {
   "cell_type": "markdown",
   "metadata": {},
   "source": [
    "Cifar-10 Dataset is taken from the official website www.cs.toronto.edu.\n",
    "\n",
    "Dataset is stored in the data directory: cnn/data. From Cifar-10 dataset we are going to take x_train, t_train, x_test and t_test.\n",
    "The training dataset set is used for training the CNN, the testing dataset is used for evaluate the performance and the accuracy of the network."
   ]
  },
  {
   "cell_type": "code",
   "execution_count": 2,
   "metadata": {},
   "outputs": [],
   "source": [
    "x_train, t_train, x_test, t_test = load_cifar10()"
   ]
  },
  {
   "cell_type": "code",
   "execution_count": 6,
   "metadata": {},
   "outputs": [
    {
     "data": {
      "text/plain": [
       "((50000, 32, 32, 3), (50000, 10), (10000, 32, 32, 3), (10000, 10))"
      ]
     },
     "execution_count": 6,
     "metadata": {},
     "output_type": "execute_result"
    }
   ],
   "source": [
    "x_train.shape, t_train.shape, x_test.shape, t_test.shape"
   ]
  },
  {
   "cell_type": "markdown",
   "metadata": {},
   "source": [
    "It also needs to be normalized"
   ]
  },
  {
   "cell_type": "code",
   "execution_count": 3,
   "metadata": {},
   "outputs": [
    {
     "data": {
      "text/plain": [
       "array([[-0.68747891, -0.65572952, -0.63985482, ..., -0.95734874,\n",
       "        -1.00497283, -0.92559935],\n",
       "       [-0.65572952, -0.63985482, -0.59223073, ..., -0.92559935,\n",
       "        -1.02084753, -0.86210057],\n",
       "       [-0.7192283 , -0.63985482, -0.65572952, ..., -0.68747891,\n",
       "        -0.735103  , -0.70335361],\n",
       "       ...,\n",
       "       [-0.36998499, -0.7509777 , -1.00497283, ..., -0.25886212,\n",
       "        -0.24298742, -0.14773924],\n",
       "       [-0.25886212, -0.65572952, -1.19546919, ...,  0.31262694,\n",
       "        -0.00486698, -0.49698256],\n",
       "       [-0.27473681, -0.35411029, -1.11609571, ...,  0.75711843,\n",
       "         0.64599556,  0.28087755]])"
      ]
     },
     "execution_count": 3,
     "metadata": {},
     "output_type": "execute_result"
    }
   ],
   "source": [
    "x_train = dataset_preprocessing_by_keras(x_train)\n",
    "x_train[0, :, :, 0]"
   ]
  },
  {
   "cell_type": "markdown",
   "metadata": {},
   "source": [
    "## CNN Model and Training"
   ]
  },
  {
   "cell_type": "markdown",
   "metadata": {},
   "source": [
    "We will use a custom made wrapper for tensorfllow NN training and use"
   ]
  },
  {
   "cell_type": "markdown",
   "metadata": {},
   "source": [
    "This CNN is called *dense_cnn*. Here we will explain how it is composed.\n",
    "\n",
    "The CNN is composed by several layers. In the first part there are 2 **convolutional** layers and 2 **pooling** layers (they are alternated), then there are a *flatten* layer followed by a **relu** layer, a *dropout* layer and finally a **softmax** layer.\n",
    "\n",
    "The network uses a stochastic gradient descent optimizer and a categorical crossentropy loss.  \n",
    "To judge the performance of our model we are used a MSE metric."
   ]
  },
  {
   "cell_type": "code",
   "execution_count": 3,
   "metadata": {},
   "outputs": [],
   "source": [
    "model = TfClassifier(NET_NAME, forward_pass, loss_fn, eval_fn,\n",
    "                     tf.train.AdamOptimizer())"
   ]
  },
  {
   "cell_type": "markdown",
   "metadata": {},
   "source": [
    "This network is trained for 50 epochs."
   ]
  },
  {
   "cell_type": "code",
   "execution_count": 4,
   "metadata": {},
   "outputs": [
    {
     "name": "stdout",
     "output_type": "stream",
     "text": [
      "For training: tensorboard --logdir=/tmp/log-tb/dense_cnn/training\n",
      "For validation: tensorboard --logdir=/tmp/log-tb/dense_cnn/validation\n",
      "{'classes': array([1]), 'accuracy': (0.0, 0.0), 'mse': (0.0, 1677.4539), 'loss': 79.16019}\n",
      "{'classes': array([7]), 'accuracy': (0.0, 0.0), 'mse': (1677.4539, 14643.992), 'loss': 471.7913}\n",
      "{'classes': array([7]), 'accuracy': (0.0, 0.0), 'mse': (14643.992, 20264.693), 'loss': 240.14194}\n",
      "{'classes': array([5]), 'accuracy': (0.0, 0.0), 'mse': (20264.693, 19044.682), 'loss': 215.25688}\n",
      "{'classes': array([5]), 'accuracy': (0.0, 0.2), 'mse': (19044.682, 16337.645), 'loss': 0.0}\n",
      "{'classes': array([5]), 'accuracy': (0.2, 0.16666667), 'mse': (16337.645, 14145.406), 'loss': 133.26247}\n",
      "{'classes': array([6]), 'accuracy': (0.16666667, 0.14285715), 'mse': (14145.406, 12435.828), 'loss': 92.2276}\n",
      "{'classes': array([6]), 'accuracy': (0.14285715, 0.125), 'mse': (12435.828, 11080.518), 'loss': 71.087906}\n",
      "{'classes': array([6]), 'accuracy': (0.125, 0.11111111), 'mse': (11080.518, 9907.08), 'loss': 33.86817}\n",
      "{'classes': array([4]), 'accuracy': (0.11111111, 0.1), 'mse': (9907.08, 8926.446), 'loss': 20.200779}\n",
      "{'classes': array([5]), 'accuracy': (0.1, 0.18181819), 'mse': (8926.446, 8127.8403), 'loss': 0.017297365}\n",
      "{'classes': array([3]), 'accuracy': (0.18181819, 0.16666667), 'mse': (8127.8403, 7457.4287), 'loss': 7.1143193}\n",
      "{'classes': array([8]), 'accuracy': (0.16666667, 0.15384616), 'mse': (7457.4287, 6887.283), 'loss': 3.8157146}\n",
      "{'classes': array([0]), 'accuracy': (0.15384616, 0.14285715), 'mse': (6887.283, 6398.5264), 'loss': 21.91281}\n",
      "{'classes': array([7]), 'accuracy': (0.14285715, 0.13333334), 'mse': (6398.5264, 5975.559), 'loss': 13.63678}\n",
      "{'classes': array([0]), 'accuracy': (0.13333334, 0.125), 'mse': (5975.559, 5602.834), 'loss': 6.020933}\n",
      "{'classes': array([0]), 'accuracy': (0.125, 0.11764706), 'mse': (5602.834, 5273.912), 'loss': 8.047097}\n",
      "{'classes': array([7]), 'accuracy': (0.11764706, 0.16666667), 'mse': (5273.912, 4982.164), 'loss': 0.2983913}\n",
      "{'classes': array([3]), 'accuracy': (0.16666667, 0.15789473), 'mse': (4982.164, 4725.2256), 'loss': 15.380482}\n",
      "{'classes': array([2]), 'accuracy': (0.15789473, 0.15), 'mse': (4725.2256, 4489.1816), 'loss': 6.162835}\n",
      "{'classes': array([7]), 'accuracy': (0.15, 0.14285715), 'mse': (4489.1816, 4275.7217), 'loss': 5.492347}\n",
      "{'classes': array([8]), 'accuracy': (0.14285715, 0.13636364), 'mse': (4275.7217, 4081.485), 'loss': 2.5562062}\n",
      "{'classes': array([5]), 'accuracy': (0.13636364, 0.13043478), 'mse': (4081.485, 3904.191), 'loss': 6.112028}\n",
      "{'classes': array([5]), 'accuracy': (0.13043478, 0.125), 'mse': (3904.191, 3741.7683), 'loss': 5.1518116}\n",
      "{'classes': array([6]), 'accuracy': (0.125, 0.12), 'mse': (3741.7683, 3592.1516), 'loss': 4.2709503}\n",
      "{'classes': array([4]), 'accuracy': (0.12, 0.115384616), 'mse': (3592.1516, 3454.158), 'loss': 5.1852803}\n",
      "{'classes': array([4]), 'accuracy': (0.115384616, 0.11111111), 'mse': (3454.158, 3326.3308), 'loss': 4.3378897}\n",
      "{'classes': array([4]), 'accuracy': (0.11111111, 0.10714286), 'mse': (3326.3308, 3207.741), 'loss': 5.533548}\n",
      "{'classes': array([9]), 'accuracy': (0.10714286, 0.10344828), 'mse': (3207.741, 3097.1802), 'loss': 2.6069198}\n",
      "{'classes': array([5]), 'accuracy': (0.10344828, 0.13333334), 'mse': (3097.1802, 2994.0818), 'loss': 1.1753093}\n",
      "{'classes': array([6]), 'accuracy': (0.13333334, 0.12903225), 'mse': (2994.0818, 2897.526), 'loss': 1.9939108}\n",
      "{'classes': array([5]), 'accuracy': (0.12903225, 0.125), 'mse': (2897.526, 2807.0776), 'loss': 4.61996}\n"
     ]
    },
    {
     "ename": "KeyboardInterrupt",
     "evalue": "",
     "output_type": "error",
     "traceback": [
      "\u001b[0;31m---------------------------------------------------------------------------\u001b[0m",
      "\u001b[0;31mKeyboardInterrupt\u001b[0m                         Traceback (most recent call last)",
      "\u001b[0;32m<ipython-input-4-eff070710138>\u001b[0m in \u001b[0;36m<module>\u001b[0;34m()\u001b[0m\n\u001b[1;32m      5\u001b[0m     \u001b[0mepochs\u001b[0m\u001b[0;34m=\u001b[0m\u001b[0;36m1\u001b[0m\u001b[0;34m,\u001b[0m\u001b[0;34m\u001b[0m\u001b[0m\n\u001b[1;32m      6\u001b[0m     \u001b[0mverbosity\u001b[0m\u001b[0;34m=\u001b[0m\u001b[0;36m2\u001b[0m\u001b[0;34m,\u001b[0m\u001b[0;34m\u001b[0m\u001b[0m\n\u001b[0;32m----> 7\u001b[0;31m     keep_prob=0.5)\n\u001b[0m\u001b[1;32m      8\u001b[0m \u001b[0;34m\u001b[0m\u001b[0m\n\u001b[1;32m      9\u001b[0m \u001b[0mprint\u001b[0m\u001b[0;34m(\u001b[0m\u001b[0mhistory\u001b[0m\u001b[0;34m)\u001b[0m\u001b[0;34m\u001b[0m\u001b[0m\n",
      "\u001b[0;32m~/Documents/Code/Python/aca-tensorflow/cnn/model_class.py\u001b[0m in \u001b[0;36mfit\u001b[0;34m(self, inputs, input_names, batch_size, validation_split, epochs, verbosity, keep_prob)\u001b[0m\n\u001b[1;32m    278\u001b[0m                         \u001b[0mfeed_dict\u001b[0m\u001b[0;34m=\u001b[0m\u001b[0mtrain_dict\u001b[0m\u001b[0;34m,\u001b[0m\u001b[0;34m\u001b[0m\u001b[0m\n\u001b[1;32m    279\u001b[0m                         \u001b[0moptions\u001b[0m\u001b[0;34m=\u001b[0m\u001b[0mrun_options\u001b[0m\u001b[0;34m,\u001b[0m\u001b[0;34m\u001b[0m\u001b[0m\n\u001b[0;32m--> 280\u001b[0;31m                         run_metadata=run_metadata)\n\u001b[0m\u001b[1;32m    281\u001b[0m \u001b[0;34m\u001b[0m\u001b[0m\n\u001b[1;32m    282\u001b[0m                     \u001b[0;32mif\u001b[0m \u001b[0mverbosity\u001b[0m \u001b[0;34m>=\u001b[0m \u001b[0;36m1\u001b[0m\u001b[0;34m:\u001b[0m\u001b[0;34m\u001b[0m\u001b[0m\n",
      "\u001b[0;32m/usr/lib/python3.6/site-packages/tensorflow/python/client/session.py\u001b[0m in \u001b[0;36mrun\u001b[0;34m(self, fetches, feed_dict, options, run_metadata)\u001b[0m\n\u001b[1;32m    898\u001b[0m     \u001b[0;32mtry\u001b[0m\u001b[0;34m:\u001b[0m\u001b[0;34m\u001b[0m\u001b[0m\n\u001b[1;32m    899\u001b[0m       result = self._run(None, fetches, feed_dict, options_ptr,\n\u001b[0;32m--> 900\u001b[0;31m                          run_metadata_ptr)\n\u001b[0m\u001b[1;32m    901\u001b[0m       \u001b[0;32mif\u001b[0m \u001b[0mrun_metadata\u001b[0m\u001b[0;34m:\u001b[0m\u001b[0;34m\u001b[0m\u001b[0m\n\u001b[1;32m    902\u001b[0m         \u001b[0mproto_data\u001b[0m \u001b[0;34m=\u001b[0m \u001b[0mtf_session\u001b[0m\u001b[0;34m.\u001b[0m\u001b[0mTF_GetBuffer\u001b[0m\u001b[0;34m(\u001b[0m\u001b[0mrun_metadata_ptr\u001b[0m\u001b[0;34m)\u001b[0m\u001b[0;34m\u001b[0m\u001b[0m\n",
      "\u001b[0;32m/usr/lib/python3.6/site-packages/tensorflow/python/client/session.py\u001b[0m in \u001b[0;36m_run\u001b[0;34m(self, handle, fetches, feed_dict, options, run_metadata)\u001b[0m\n\u001b[1;32m   1133\u001b[0m     \u001b[0;32mif\u001b[0m \u001b[0mfinal_fetches\u001b[0m \u001b[0;32mor\u001b[0m \u001b[0mfinal_targets\u001b[0m \u001b[0;32mor\u001b[0m \u001b[0;34m(\u001b[0m\u001b[0mhandle\u001b[0m \u001b[0;32mand\u001b[0m \u001b[0mfeed_dict_tensor\u001b[0m\u001b[0;34m)\u001b[0m\u001b[0;34m:\u001b[0m\u001b[0;34m\u001b[0m\u001b[0m\n\u001b[1;32m   1134\u001b[0m       results = self._do_run(handle, final_targets, final_fetches,\n\u001b[0;32m-> 1135\u001b[0;31m                              feed_dict_tensor, options, run_metadata)\n\u001b[0m\u001b[1;32m   1136\u001b[0m     \u001b[0;32melse\u001b[0m\u001b[0;34m:\u001b[0m\u001b[0;34m\u001b[0m\u001b[0m\n\u001b[1;32m   1137\u001b[0m       \u001b[0mresults\u001b[0m \u001b[0;34m=\u001b[0m \u001b[0;34m[\u001b[0m\u001b[0;34m]\u001b[0m\u001b[0;34m\u001b[0m\u001b[0m\n",
      "\u001b[0;32m/usr/lib/python3.6/site-packages/tensorflow/python/client/session.py\u001b[0m in \u001b[0;36m_do_run\u001b[0;34m(self, handle, target_list, fetch_list, feed_dict, options, run_metadata)\u001b[0m\n\u001b[1;32m   1314\u001b[0m     \u001b[0;32mif\u001b[0m \u001b[0mhandle\u001b[0m \u001b[0;32mis\u001b[0m \u001b[0;32mNone\u001b[0m\u001b[0;34m:\u001b[0m\u001b[0;34m\u001b[0m\u001b[0m\n\u001b[1;32m   1315\u001b[0m       return self._do_call(_run_fn, feeds, fetches, targets, options,\n\u001b[0;32m-> 1316\u001b[0;31m                            run_metadata)\n\u001b[0m\u001b[1;32m   1317\u001b[0m     \u001b[0;32melse\u001b[0m\u001b[0;34m:\u001b[0m\u001b[0;34m\u001b[0m\u001b[0m\n\u001b[1;32m   1318\u001b[0m       \u001b[0;32mreturn\u001b[0m \u001b[0mself\u001b[0m\u001b[0;34m.\u001b[0m\u001b[0m_do_call\u001b[0m\u001b[0;34m(\u001b[0m\u001b[0m_prun_fn\u001b[0m\u001b[0;34m,\u001b[0m \u001b[0mhandle\u001b[0m\u001b[0;34m,\u001b[0m \u001b[0mfeeds\u001b[0m\u001b[0;34m,\u001b[0m \u001b[0mfetches\u001b[0m\u001b[0;34m)\u001b[0m\u001b[0;34m\u001b[0m\u001b[0m\n",
      "\u001b[0;32m/usr/lib/python3.6/site-packages/tensorflow/python/client/session.py\u001b[0m in \u001b[0;36m_do_call\u001b[0;34m(self, fn, *args)\u001b[0m\n\u001b[1;32m   1320\u001b[0m   \u001b[0;32mdef\u001b[0m \u001b[0m_do_call\u001b[0m\u001b[0;34m(\u001b[0m\u001b[0mself\u001b[0m\u001b[0;34m,\u001b[0m \u001b[0mfn\u001b[0m\u001b[0;34m,\u001b[0m \u001b[0;34m*\u001b[0m\u001b[0margs\u001b[0m\u001b[0;34m)\u001b[0m\u001b[0;34m:\u001b[0m\u001b[0;34m\u001b[0m\u001b[0m\n\u001b[1;32m   1321\u001b[0m     \u001b[0;32mtry\u001b[0m\u001b[0;34m:\u001b[0m\u001b[0;34m\u001b[0m\u001b[0m\n\u001b[0;32m-> 1322\u001b[0;31m       \u001b[0;32mreturn\u001b[0m \u001b[0mfn\u001b[0m\u001b[0;34m(\u001b[0m\u001b[0;34m*\u001b[0m\u001b[0margs\u001b[0m\u001b[0;34m)\u001b[0m\u001b[0;34m\u001b[0m\u001b[0m\n\u001b[0m\u001b[1;32m   1323\u001b[0m     \u001b[0;32mexcept\u001b[0m \u001b[0merrors\u001b[0m\u001b[0;34m.\u001b[0m\u001b[0mOpError\u001b[0m \u001b[0;32mas\u001b[0m \u001b[0me\u001b[0m\u001b[0;34m:\u001b[0m\u001b[0;34m\u001b[0m\u001b[0m\n\u001b[1;32m   1324\u001b[0m       \u001b[0mmessage\u001b[0m \u001b[0;34m=\u001b[0m \u001b[0mcompat\u001b[0m\u001b[0;34m.\u001b[0m\u001b[0mas_text\u001b[0m\u001b[0;34m(\u001b[0m\u001b[0me\u001b[0m\u001b[0;34m.\u001b[0m\u001b[0mmessage\u001b[0m\u001b[0;34m)\u001b[0m\u001b[0;34m\u001b[0m\u001b[0m\n",
      "\u001b[0;32m/usr/lib/python3.6/site-packages/tensorflow/python/client/session.py\u001b[0m in \u001b[0;36m_run_fn\u001b[0;34m(feed_dict, fetch_list, target_list, options, run_metadata)\u001b[0m\n\u001b[1;32m   1305\u001b[0m       \u001b[0mself\u001b[0m\u001b[0;34m.\u001b[0m\u001b[0m_extend_graph\u001b[0m\u001b[0;34m(\u001b[0m\u001b[0;34m)\u001b[0m\u001b[0;34m\u001b[0m\u001b[0m\n\u001b[1;32m   1306\u001b[0m       return self._call_tf_sessionrun(\n\u001b[0;32m-> 1307\u001b[0;31m           options, feed_dict, fetch_list, target_list, run_metadata)\n\u001b[0m\u001b[1;32m   1308\u001b[0m \u001b[0;34m\u001b[0m\u001b[0m\n\u001b[1;32m   1309\u001b[0m     \u001b[0;32mdef\u001b[0m \u001b[0m_prun_fn\u001b[0m\u001b[0;34m(\u001b[0m\u001b[0mhandle\u001b[0m\u001b[0;34m,\u001b[0m \u001b[0mfeed_dict\u001b[0m\u001b[0;34m,\u001b[0m \u001b[0mfetch_list\u001b[0m\u001b[0;34m)\u001b[0m\u001b[0;34m:\u001b[0m\u001b[0;34m\u001b[0m\u001b[0m\n",
      "\u001b[0;32m/usr/lib/python3.6/site-packages/tensorflow/python/client/session.py\u001b[0m in \u001b[0;36m_call_tf_sessionrun\u001b[0;34m(self, options, feed_dict, fetch_list, target_list, run_metadata)\u001b[0m\n\u001b[1;32m   1407\u001b[0m       return tf_session.TF_SessionRun_wrapper(\n\u001b[1;32m   1408\u001b[0m           \u001b[0mself\u001b[0m\u001b[0;34m.\u001b[0m\u001b[0m_session\u001b[0m\u001b[0;34m,\u001b[0m \u001b[0moptions\u001b[0m\u001b[0;34m,\u001b[0m \u001b[0mfeed_dict\u001b[0m\u001b[0;34m,\u001b[0m \u001b[0mfetch_list\u001b[0m\u001b[0;34m,\u001b[0m \u001b[0mtarget_list\u001b[0m\u001b[0;34m,\u001b[0m\u001b[0;34m\u001b[0m\u001b[0m\n\u001b[0;32m-> 1409\u001b[0;31m           run_metadata)\n\u001b[0m\u001b[1;32m   1410\u001b[0m     \u001b[0;32melse\u001b[0m\u001b[0;34m:\u001b[0m\u001b[0;34m\u001b[0m\u001b[0m\n\u001b[1;32m   1411\u001b[0m       \u001b[0;32mwith\u001b[0m \u001b[0merrors\u001b[0m\u001b[0;34m.\u001b[0m\u001b[0mraise_exception_on_not_ok_status\u001b[0m\u001b[0;34m(\u001b[0m\u001b[0;34m)\u001b[0m \u001b[0;32mas\u001b[0m \u001b[0mstatus\u001b[0m\u001b[0;34m:\u001b[0m\u001b[0;34m\u001b[0m\u001b[0m\n",
      "\u001b[0;31mKeyboardInterrupt\u001b[0m: "
     ]
    }
   ],
   "source": [
    "history = model.fit(\n",
    "    [x_train, t_train],\n",
    "    batch_size=1,\n",
    "    validation_split=0.1,\n",
    "    epochs=1,\n",
    "    verbosity=2,\n",
    "    keep_prob=0.5)\n",
    "\n",
    "print(history)"
   ]
  },
  {
   "cell_type": "markdown",
   "metadata": {},
   "source": [
    "Then it's evaluated"
   ]
  },
  {
   "cell_type": "code",
   "execution_count": 9,
   "metadata": {},
   "outputs": [
    {
     "name": "stdout",
     "output_type": "stream",
     "text": [
      "INFO:tensorflow:Restoring parameters from /home/daibak/Documents/Code/Python/aca-tensorflow/cnn/models/dense_cnn/model.ckpt\n",
      "[{'logits': array([[  58.449165 ,  -40.94816  ,   -5.6226172, ...,  -94.2457   ,\n",
      "          43.86064  ,  -68.44922  ],\n",
      "       [  -9.421125 ,   -2.6976483,  -56.005733 , ...,  -15.75792  ,\n",
      "          16.243078 ,  -80.76974  ],\n",
      "       [  88.704    ,  -35.250233 ,  -27.641563 , ..., -143.42578  ,\n",
      "         217.6601   ,   21.607813 ],\n",
      "       ...,\n",
      "       [ -35.267845 ,   -7.7263284,  -25.900536 , ...,   25.24029  ,\n",
      "           5.2269926,  -20.619165 ],\n",
      "       [  45.99917  ,  119.776566 , -125.03786  , ...,  -61.233307 ,\n",
      "         179.8653   ,   47.13309  ],\n",
      "       [  22.152536 ,  -10.786198 ,  -36.33955  , ..., -121.99178  ,\n",
      "         116.80828  ,   32.390125 ]], dtype=float32), 'classes': array([0, 3, 8, ..., 5, 8, 8]), 'probabilities': array([[9.9999952e-01, 0.0000000e+00, 1.4927161e-28, ..., 0.0000000e+00,\n",
      "        4.6161975e-07, 0.0000000e+00],\n",
      "       [3.5268134e-31, 2.9332640e-28, 0.0000000e+00, ..., 6.2423108e-34,\n",
      "        4.9340416e-20, 0.0000000e+00],\n",
      "       [0.0000000e+00, 0.0000000e+00, 0.0000000e+00, ..., 0.0000000e+00,\n",
      "        1.0000000e+00, 0.0000000e+00],\n",
      "       ...,\n",
      "       [6.6077851e-30, 6.0420461e-18, 7.7308418e-26, ..., 1.2543077e-03,\n",
      "        2.5511689e-12, 1.5201829e-23],\n",
      "       [0.0000000e+00, 8.0130210e-27, 0.0000000e+00, ..., 0.0000000e+00,\n",
      "        1.0000000e+00, 0.0000000e+00],\n",
      "       [0.0000000e+00, 0.0000000e+00, 0.0000000e+00, ..., 0.0000000e+00,\n",
      "        1.0000000e+00, 2.1760185e-37]], dtype=float32), 'accuracy': (0.0, 0.3295), 'mse': (0.0, 14651.432), 'loss': 66.92384, 'summaries': b'\\n\\x0b\\n\\x04loss\\x15\\x02\\xd9\\x85B\\n\\x11\\n\\naccuracy_1\\x15\\x00\\x00\\x00\\x00\\n\\n\\n\\x03mse\\x15\\x00\\x00\\x00\\x00'}, {'logits': array([[ -42.861507 ,   68.084076 , -123.29671  , ..., -115.98757  ,\n",
      "          26.015644 ,   76.17854  ],\n",
      "       [ 135.01825  ,  111.09117  ,  -37.476257 , ..., -124.922676 ,\n",
      "         193.4255   ,   20.449968 ],\n",
      "       [  18.012424 ,  -25.678225 ,  -22.017536 , ...,  -11.532805 ,\n",
      "          62.711304 ,   10.744349 ],\n",
      "       ...,\n",
      "       [  22.02229  ,   69.159966 ,  -99.58397  , ...,   -1.3615682,\n",
      "         -18.017876 ,  140.48529  ],\n",
      "       [  31.09459  ,   15.551247 ,  -54.834347 , ...,  -87.34103  ,\n",
      "         113.208954 ,   -1.5786377],\n",
      "       [  83.889984 ,   18.565737 ,   -1.9847757, ..., -113.281204 ,\n",
      "          80.26566  ,  -37.790752 ]], dtype=float32), 'classes': array([9, 8, 8, ..., 9, 8, 0]), 'probabilities': array([[0.0000000e+00, 3.0513012e-04, 0.0000000e+00, ..., 0.0000000e+00,\n",
      "        1.6383147e-22, 9.9969494e-01],\n",
      "       [4.3057680e-26, 1.7484474e-36, 0.0000000e+00, ..., 0.0000000e+00,\n",
      "        1.0000000e+00, 0.0000000e+00],\n",
      "       [3.8683295e-20, 0.0000000e+00, 1.5949025e-37, ..., 5.7041738e-33,\n",
      "        1.0000000e+00, 2.6979715e-23],\n",
      "       ...,\n",
      "       [0.0000000e+00, 1.0563432e-31, 0.0000000e+00, ..., 0.0000000e+00,\n",
      "        0.0000000e+00, 1.0000000e+00],\n",
      "       [2.1786359e-36, 0.0000000e+00, 0.0000000e+00, ..., 0.0000000e+00,\n",
      "        1.0000000e+00, 0.0000000e+00],\n",
      "       [9.7402543e-01, 4.1553669e-29, 4.9389482e-38, ..., 0.0000000e+00,\n",
      "        2.5974531e-02, 0.0000000e+00]], dtype=float32), 'accuracy': (0.3295, 0.32775), 'mse': (14651.432, 14725.559), 'loss': 69.39487, 'summaries': b'\\n\\x0b\\n\\x04loss\\x15,\\xca\\x8aB\\n\\x11\\n\\naccuracy_1\\x159\\xb4\\xa8>\\n\\n\\n\\x03mse\\x15\\xba\\xeddF'}, {'logits': array([[ 231.96716 ,   41.62205 ,  -29.554337, ..., -136.7635  ,\n",
      "         194.68137 ,   -2.397997],\n",
      "       [ 152.8617  ,  133.96062 , -117.11271 , ..., -236.12067 ,\n",
      "         320.8651  ,   94.71111 ],\n",
      "       [ 239.72537 ,   87.501785,  -22.310883, ..., -170.25989 ,\n",
      "         298.6308  ,   65.33827 ],\n",
      "       ...,\n",
      "       [  53.363953,   67.24453 ,   70.27594 , ...,  -56.5647  ,\n",
      "          12.632701,  -76.66707 ],\n",
      "       [ -10.511704,   -5.022235,  -24.23229 , ...,  -71.7543  ,\n",
      "         -21.641811,  -26.274738],\n",
      "       [  29.00904 ,   30.201502,  -82.80867 , ..., -106.593346,\n",
      "         153.02087 ,    9.787605]], dtype=float32), 'classes': array([0, 8, 8, ..., 2, 3, 8]), 'probabilities': array([[1.0000000e+00, 0.0000000e+00, 0.0000000e+00, ..., 0.0000000e+00,\n",
      "        6.4118607e-17, 0.0000000e+00],\n",
      "       [0.0000000e+00, 0.0000000e+00, 0.0000000e+00, ..., 0.0000000e+00,\n",
      "        1.0000000e+00, 0.0000000e+00],\n",
      "       [2.6163666e-26, 0.0000000e+00, 0.0000000e+00, ..., 0.0000000e+00,\n",
      "        1.0000000e+00, 0.0000000e+00],\n",
      "       ...,\n",
      "       [4.3127411e-08, 4.6026867e-02, 9.5397311e-01, ..., 0.0000000e+00,\n",
      "        8.8185257e-26, 0.0000000e+00],\n",
      "       [0.0000000e+00, 0.0000000e+00, 0.0000000e+00, ..., 0.0000000e+00,\n",
      "        0.0000000e+00, 0.0000000e+00],\n",
      "       [0.0000000e+00, 0.0000000e+00, 0.0000000e+00, ..., 0.0000000e+00,\n",
      "        1.0000000e+00, 0.0000000e+00]], dtype=float32), 'accuracy': (0.32775, 0.32716668), 'mse': (14725.559, 14649.749), 'loss': 67.79993, 'summaries': b'\\n\\x0b\\n\\x04loss\\x15\\x90\\x99\\x87B\\n\\x11\\n\\naccuracy_1\\x15\\xd9\\xce\\xa7>\\n\\n\\n\\x03mse\\x15<\\x16fF'}, {'logits': array([[  60.42943  ,  -14.134864 ,    4.395426 , ...,  -49.75998  ,\n",
      "           5.6746855,  -49.12391  ],\n",
      "       [ -42.18232  ,  -23.630577 , -100.97712  , ...,   34.888405 ,\n",
      "         -18.16686  ,   22.973595 ],\n",
      "       [ -39.51556  ,   -8.607806 ,  -27.834356 , ...,   -7.6525745,\n",
      "          -4.721447 ,   -7.6328983],\n",
      "       ...,\n",
      "       [ -23.800306 , -125.93824  ,   12.572109 , ...,   78.05098  ,\n",
      "        -142.07199  ,  -87.87119  ],\n",
      "       [  54.09524  ,  162.14516  ,  -75.20964  , ..., -182.15552  ,\n",
      "          28.41861  ,  142.17108  ],\n",
      "       [ -90.683075 ,   27.611706 ,  -56.636967 , ..., -145.17691  ,\n",
      "          52.038834 ,   21.5453   ]], dtype=float32), 'classes': array([0, 7, 5, ..., 5, 1, 6]), 'probabilities': array([[1.0000000e+00, 4.1413232e-33, 4.6210560e-25, ..., 0.0000000e+00,\n",
      "        1.6608021e-24, 0.0000000e+00],\n",
      "       [3.3653157e-34, 3.8365883e-26, 0.0000000e+00, ..., 9.9635953e-01,\n",
      "        9.0532872e-24, 6.6662224e-06],\n",
      "       [5.6759615e-24, 1.5035088e-10, 6.7161591e-19, ..., 3.9080258e-10,\n",
      "        7.3270767e-09, 3.9856821e-10],\n",
      "       ...,\n",
      "       [0.0000000e+00, 0.0000000e+00, 0.0000000e+00, ..., 8.0146636e-29,\n",
      "        0.0000000e+00, 0.0000000e+00],\n",
      "       [0.0000000e+00, 1.0000000e+00, 0.0000000e+00, ..., 0.0000000e+00,\n",
      "        0.0000000e+00, 2.1152871e-09],\n",
      "       [0.0000000e+00, 2.7453264e-21, 0.0000000e+00, ..., 0.0000000e+00,\n",
      "        1.1147072e-10, 6.3677685e-24]], dtype=float32), 'accuracy': (0.32716668, 0.327125), 'mse': (14649.749, 14773.408), 'loss': 68.90207, 'summaries': b'\\n\\x0b\\n\\x04loss\\x15\\xdc\\xcd\\x89B\\n\\x11\\n\\naccuracy_1\\x15d\\x82\\xa7>\\n\\n\\n\\x03mse\\x15\\xff\\xe6dF'}, {'logits': array([[ -31.385494 ,  124.01619  ,  -87.60156  , ..., -149.22847  ,\n",
      "           6.195256 ,   68.69174  ],\n",
      "       [  47.066536 ,  -74.359924 ,  -40.27415  , ...,   -4.538248 ,\n",
      "          54.37802  ,    4.6817927],\n",
      "       [  10.328207 ,    5.696112 ,  -24.63046  , ...,  -84.30711  ,\n",
      "         131.34125  ,  -25.227037 ],\n",
      "       ...,\n",
      "       [  89.59186  ,  105.47219  ,  -87.589035 , ...,  -67.55313  ,\n",
      "         203.88765  ,    8.546838 ],\n",
      "       [  52.04953  ,  137.92863  , -114.91954  , ..., -133.98096  ,\n",
      "          97.50491  ,  155.7475   ],\n",
      "       [  61.838993 ,  138.00854  ,  -20.74827  , ...,   39.95933  ,\n",
      "           8.869154 ,   43.962883 ]], dtype=float32), 'classes': array([1, 8, 8, ..., 8, 9, 1]), 'probabilities': array([[0.0000000e+00, 1.0000000e+00, 0.0000000e+00, ..., 0.0000000e+00,\n",
      "        0.0000000e+00, 9.3950208e-25],\n",
      "       [6.6737871e-04, 0.0000000e+00, 0.0000000e+00, ..., 2.5864275e-26,\n",
      "        9.9933261e-01, 2.6116352e-22],\n",
      "       [0.0000000e+00, 0.0000000e+00, 0.0000000e+00, ..., 0.0000000e+00,\n",
      "        1.0000000e+00, 0.0000000e+00],\n",
      "       ...,\n",
      "       [0.0000000e+00, 0.0000000e+00, 0.0000000e+00, ..., 0.0000000e+00,\n",
      "        1.0000000e+00, 0.0000000e+00],\n",
      "       [0.0000000e+00, 1.8254342e-08, 0.0000000e+00, ..., 0.0000000e+00,\n",
      "        5.0765319e-26, 1.0000000e+00],\n",
      "       [8.3173003e-34, 1.0000000e+00, 0.0000000e+00, ..., 0.0000000e+00,\n",
      "        0.0000000e+00, 0.0000000e+00]], dtype=float32), 'accuracy': (0.327125, 0.3304), 'mse': (14773.408, 14990.489), 'loss': 67.71613, 'summaries': b'\\n\\x0b\\n\\x04loss\\x15\\xa9n\\x87B\\n\\x11\\n\\naccuracy_1\\x15\\xee|\\xa7>\\n\\n\\n\\x03mse\\x15\\xa2\\xd5fF'}]\n"
     ]
    }
   ],
   "source": [
    "evals = model.evaluate([x_test, t_test])\n",
    "\n",
    "print(evals)"
   ]
  },
  {
   "cell_type": "markdown",
   "metadata": {},
   "source": [
    "## Optimization Transform"
   ]
  },
  {
   "cell_type": "code",
   "execution_count": 3,
   "metadata": {},
   "outputs": [],
   "source": [
    "graph = load_frozen_graph(\"models/dense_quant.pb\")"
   ]
  },
  {
   "cell_type": "code",
   "execution_count": 4,
   "metadata": {},
   "outputs": [
    {
     "data": {
      "text/plain": [
       "[<tf.Operation 'features' type=Placeholder>,\n",
       " <tf.Operation 'conv2d/Conv2D_eightbit/features__port__0/reduction_dims' type=Const>,\n",
       " <tf.Operation 'conv2d/Conv2D_eightbit/features__port__0/reshape_dims' type=Const>,\n",
       " <tf.Operation 'conv2d/Conv2D_eightbit/features__port__0/reshape' type=Reshape>,\n",
       " <tf.Operation 'conv2d/Conv2D_eightbit/features__port__0/max' type=Max>,\n",
       " <tf.Operation 'conv2d/Conv2D_eightbit/features__port__0/min' type=Min>,\n",
       " <tf.Operation 'conv2d/Conv2D_eightbit/features__port__0/quantize' type=QuantizeV2>,\n",
       " <tf.Operation 'conv2d/weights_quant/FakeQuantWithMinMaxVars/_0__cf__0_quantized_min' type=Const>,\n",
       " <tf.Operation 'logits/weights_quant/FakeQuantWithMinMaxVars/_2__cf__2_quantized_max' type=Const>,\n",
       " <tf.Operation 'conv2d/bias' type=Const>,\n",
       " <tf.Operation 'conv2d/BiasAdd_eightbit/conv2d/bias/reduction_dims' type=Const>,\n",
       " <tf.Operation 'conv2d/BiasAdd_eightbit/conv2d/bias/reshape_dims' type=Const>,\n",
       " <tf.Operation 'conv2d/BiasAdd_eightbit/conv2d/bias/reshape' type=Reshape>,\n",
       " <tf.Operation 'conv2d/BiasAdd_eightbit/conv2d/bias/min' type=Min>,\n",
       " <tf.Operation 'conv2d/BiasAdd_eightbit/conv2d/bias/max' type=Max>,\n",
       " <tf.Operation 'conv2d/BiasAdd_eightbit/conv2d/bias/quantize' type=QuantizeV2>,\n",
       " <tf.Operation 'dense/bias_quantized_max' type=Const>,\n",
       " <tf.Operation 'logits/act_quant/max' type=Const>,\n",
       " <tf.Operation 'flatten/strided_slice/stack_2' type=Const>,\n",
       " <tf.Operation 'dense/kernel_quantized_const' type=Const>,\n",
       " <tf.Operation 'logits/weights_quant/FakeQuantWithMinMaxVars/_2__cf__2_quantized_min' type=Const>,\n",
       " <tf.Operation 'logits/act_quant/min' type=Const>,\n",
       " <tf.Operation 'logits/weights_quant/FakeQuantWithMinMaxVars/_2__cf__2_quantized_const' type=Const>,\n",
       " <tf.Operation 'flatten/strided_slice/stack' type=Const>,\n",
       " <tf.Operation 'conv2d/act_quant/min' type=Const>,\n",
       " <tf.Operation 'conv2d/act_quant/max' type=Const>,\n",
       " <tf.Operation 'dense/weights_quant/max' type=Const>,\n",
       " <tf.Operation 'conv2d_1/bias' type=Const>,\n",
       " <tf.Operation 'conv2d_1/BiasAdd_eightbit/conv2d_1/bias/reduction_dims' type=Const>,\n",
       " <tf.Operation 'conv2d_1/BiasAdd_eightbit/conv2d_1/bias/reshape_dims' type=Const>,\n",
       " <tf.Operation 'conv2d_1/BiasAdd_eightbit/conv2d_1/bias/reshape' type=Reshape>,\n",
       " <tf.Operation 'conv2d_1/BiasAdd_eightbit/conv2d_1/bias/max' type=Max>,\n",
       " <tf.Operation 'conv2d_1/BiasAdd_eightbit/conv2d_1/bias/min' type=Min>,\n",
       " <tf.Operation 'conv2d_1/BiasAdd_eightbit/conv2d_1/bias/quantize' type=QuantizeV2>,\n",
       " <tf.Operation 'dense/kernel_quantized_min' type=Const>,\n",
       " <tf.Operation 'conv2d_1/weights_quant/FakeQuantWithMinMaxVars/_1__cf__1_quantized_max' type=Const>,\n",
       " <tf.Operation 'dense/bias_quantized_min' type=Const>,\n",
       " <tf.Operation 'conv2d_1/weights_quant/FakeQuantWithMinMaxVars/_1__cf__1_quantized_min' type=Const>,\n",
       " <tf.Operation 'dense/kernel_quantized_max' type=Const>,\n",
       " <tf.Operation 'dense/kernel' type=Dequantize>,\n",
       " <tf.Operation 'conv2d/weights_quant/FakeQuantWithMinMaxVars/_0__cf__0_quantized_max' type=Const>,\n",
       " <tf.Operation 'logits/bias' type=Const>,\n",
       " <tf.Operation 'logits/BiasAdd_eightbit/logits/bias/reshape_dims' type=Const>,\n",
       " <tf.Operation 'logits/BiasAdd_eightbit/logits/bias/reshape' type=Reshape>,\n",
       " <tf.Operation 'logits/BiasAdd_eightbit/logits/bias/reduction_dims' type=Const>,\n",
       " <tf.Operation 'logits/BiasAdd_eightbit/logits/bias/min' type=Min>,\n",
       " <tf.Operation 'logits/BiasAdd_eightbit/logits/bias/max' type=Max>,\n",
       " <tf.Operation 'logits/BiasAdd_eightbit/logits/bias/quantize' type=QuantizeV2>,\n",
       " <tf.Operation 'dense/weights_quant/min' type=Const>,\n",
       " <tf.Operation 'dense/weights_quant/FakeQuantWithMinMaxVars_eightbit/quantize' type=QuantizeV2>,\n",
       " <tf.Operation 'dense/weights_quant/FakeQuantWithMinMaxVars_eightbit/requantize' type=Requantize>,\n",
       " <tf.Operation 'conv2d_1/weights_quant/FakeQuantWithMinMaxVars/_1__cf__1_quantized_const' type=Const>,\n",
       " <tf.Operation 'conv2d/weights_quant/FakeQuantWithMinMaxVars/_0__cf__0_quantized_const' type=Const>,\n",
       " <tf.Operation 'conv2d/Conv2D/eightbit' type=QuantizedConv2D>,\n",
       " <tf.Operation 'conv2d/Conv2D/eightbit/requant_range' type=RequantizationRange>,\n",
       " <tf.Operation 'conv2d/Conv2D/eightbit/requantize' type=Requantize>,\n",
       " <tf.Operation 'conv2d/BiasAdd/eightbit' type=QuantizedBiasAdd>,\n",
       " <tf.Operation 'conv2d/act_quant/FakeQuantWithMinMaxVars_hoisted_eightbit/requantize' type=Requantize>,\n",
       " <tf.Operation 'conv2d/act_quant/FakeQuantWithMinMaxVars/eightbit' type=QuantizedRelu>,\n",
       " <tf.Operation 'max_pooling2d/MaxPool/eightbit' type=QuantizedMaxPool>,\n",
       " <tf.Operation 'conv2d_1/Conv2D/eightbit' type=QuantizedConv2D>,\n",
       " <tf.Operation 'conv2d_1/Conv2D/eightbit/requant_range' type=RequantizationRange>,\n",
       " <tf.Operation 'conv2d_1/Conv2D/eightbit/requantize' type=Requantize>,\n",
       " <tf.Operation 'conv2d_1/BiasAdd/eightbit' type=QuantizedBiasAdd>,\n",
       " <tf.Operation 'dense/bias_quantized_const' type=Const>,\n",
       " <tf.Operation 'dense/act_quant/max' type=Const>,\n",
       " <tf.Operation 'conv2d_1/act_quant/max' type=Const>,\n",
       " <tf.Operation 'conv2d_1/act_quant/FakeQuantWithMinMaxVars_hoisted_eightbit/requantize' type=Requantize>,\n",
       " <tf.Operation 'conv2d_1/act_quant/FakeQuantWithMinMaxVars/eightbit' type=QuantizedRelu>,\n",
       " <tf.Operation 'max_pooling2d_1/MaxPool/eightbit' type=QuantizedMaxPool>,\n",
       " <tf.Operation 'max_pooling2d_1/MaxPool' type=Dequantize>,\n",
       " <tf.Operation 'flatten/Shape' type=Shape>,\n",
       " <tf.Operation 'flatten/strided_slice' type=StridedSlice>,\n",
       " <tf.Operation 'flatten/Reshape/shape/1' type=Const>,\n",
       " <tf.Operation 'flatten/Reshape/shape' type=Pack>,\n",
       " <tf.Operation 'flatten/Reshape/eightbit' type=QuantizedReshape>,\n",
       " <tf.Operation 'dense/MatMul/eightbit' type=QuantizedMatMul>,\n",
       " <tf.Operation 'dense/MatMul/eightbit/requant_range' type=RequantizationRange>,\n",
       " <tf.Operation 'dense/MatMul/eightbit/requantize' type=Requantize>,\n",
       " <tf.Operation 'dense/BiasAdd/eightbit' type=QuantizedBiasAdd>,\n",
       " <tf.Operation 'dense/act_quant/FakeQuantWithMinMaxVars_hoisted_eightbit/requantize' type=Requantize>,\n",
       " <tf.Operation 'dense/act_quant/FakeQuantWithMinMaxVars/eightbit' type=QuantizedRelu>,\n",
       " <tf.Operation 'logits/MatMul/eightbit' type=QuantizedMatMul>,\n",
       " <tf.Operation 'logits/MatMul/eightbit/requant_range' type=RequantizationRange>,\n",
       " <tf.Operation 'logits/MatMul/eightbit/requantize' type=Requantize>,\n",
       " <tf.Operation 'logits/BiasAdd/eightbit' type=QuantizedBiasAdd>,\n",
       " <tf.Operation 'logits/act_quant/FakeQuantWithMinMaxVars_eightbit/requantize' type=Requantize>,\n",
       " <tf.Operation 'logits/act_quant/FakeQuantWithMinMaxVars' type=Dequantize>,\n",
       " <tf.Operation 'softmax' type=Softmax>]"
      ]
     },
     "execution_count": 4,
     "metadata": {},
     "output_type": "execute_result"
    }
   ],
   "source": [
    "graph.get_operations()"
   ]
  }
 ],
 "metadata": {
  "kernelspec": {
   "display_name": "aca",
   "language": "python",
   "name": "aca"
  },
  "language_info": {
   "codemirror_mode": {
    "name": "ipython",
    "version": 3
   },
   "file_extension": ".py",
   "mimetype": "text/x-python",
   "name": "python",
   "nbconvert_exporter": "python",
   "pygments_lexer": "ipython3",
   "version": "3.6.5"
  }
 },
 "nbformat": 4,
 "nbformat_minor": 2
}
