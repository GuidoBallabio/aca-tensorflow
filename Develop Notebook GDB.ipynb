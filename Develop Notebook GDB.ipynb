{
 "cells": [
  {
   "cell_type": "markdown",
   "metadata": {},
   "source": [
    "# CNN for Cifar-10 Dataset"
   ]
  },
  {
   "cell_type": "markdown",
   "metadata": {},
   "source": [
    "## Introduction"
   ]
  },
  {
   "cell_type": "markdown",
   "metadata": {},
   "source": [
    "In this first notebook we are going to explain how we have set up our work.  \n",
    "Essentially the process is divided into several parts:\n",
    "* Set up environment with the Cifar-10 Dataset\n",
    "* Define a convolutional neural network\n",
    "* Define a quantization method\n",
    "* Train the convolutional neural network\n",
    "* Provide information about CNN's performance and accuracy"
   ]
  },
  {
   "cell_type": "markdown",
   "metadata": {},
   "source": [
    "### Requirements"
   ]
  },
  {
   "cell_type": "markdown",
   "metadata": {},
   "source": [
    "For this project we are used:\n",
    "* Python 3.6\n",
    "* Tensorflow 1.8.0\n",
    "* *GPUs parallel calculation manager* nVidia CUDA 9.0\n",
    "* *GPU-accelerated library* nVidia cuDNN 7.1\n",
    "* or CPU optimized tensorflow for intel"
   ]
  },
  {
   "cell_type": "code",
   "execution_count": 1,
   "metadata": {},
   "outputs": [
    {
     "name": "stderr",
     "output_type": "stream",
     "text": [
      "C:\\Users\\Davide\\Anaconda3\\envs\\tfp3.6\\lib\\site-packages\\h5py\\__init__.py:36: FutureWarning: Conversion of the second argument of issubdtype from `float` to `np.floating` is deprecated. In future, it will be treated as `np.float64 == np.dtype(float).type`.\n",
      "  from ._conv import register_converters as _register_converters\n"
     ]
    }
   ],
   "source": [
    "import numpy as np\n",
    "import tensorflow as tf\n",
    "from tensorflow.python.framework import graph_io, graph_util\n",
    "from tensorflow.tools.graph_transforms import TransformGraph\n",
    "\n",
    "from cnn.dense import (NET_NAME, dataset_preprocessing_by_keras, eval_fn,\n",
    "                       forward_pass, loss_fn)\n",
    "from cnn.model_class import MODELS_DIR, TfClassifier\n",
    "from cnn.utils.dataset import load_cifar10\n",
    "from cnn.utils.save_models import load_frozen_graph"
   ]
  },
  {
   "cell_type": "markdown",
   "metadata": {},
   "source": [
    "## Cifar-10 Dataset"
   ]
  },
  {
   "cell_type": "markdown",
   "metadata": {},
   "source": [
    "Cifar-10 Dataset is taken from the official website www.cs.toronto.edu.\n",
    "\n",
    "Dataset is stored in the data directory: cnn/data. From Cifar-10 dataset we are going to take x_train, t_train, x_test and t_test.\n",
    "The training dataset set is used for training the CNN, the testing dataset is used for evaluate the performance and the accuracy of the network."
   ]
  },
  {
   "cell_type": "code",
   "execution_count": 2,
   "metadata": {},
   "outputs": [],
   "source": [
    "x_train, t_train, x_test, t_test = load_cifar10()"
   ]
  },
  {
   "cell_type": "code",
   "execution_count": 3,
   "metadata": {},
   "outputs": [
    {
     "data": {
      "text/plain": [
       "((50000, 32, 32, 3), (50000, 10), (10000, 32, 32, 3), (10000, 10))"
      ]
     },
     "execution_count": 3,
     "metadata": {},
     "output_type": "execute_result"
    }
   ],
   "source": [
    "x_train.shape, t_train.shape, x_test.shape, t_test.shape"
   ]
  },
  {
   "cell_type": "markdown",
   "metadata": {},
   "source": [
    "It also needs to be normalized"
   ]
  },
  {
   "cell_type": "code",
   "execution_count": 4,
   "metadata": {},
   "outputs": [
    {
     "data": {
      "text/plain": [
       "array([[-0.68747891, -0.65572952, -0.63985482, ..., -0.95734874,\n",
       "        -1.00497283, -0.92559935],\n",
       "       [-0.65572952, -0.63985482, -0.59223073, ..., -0.92559935,\n",
       "        -1.02084753, -0.86210057],\n",
       "       [-0.7192283 , -0.63985482, -0.65572952, ..., -0.68747891,\n",
       "        -0.735103  , -0.70335361],\n",
       "       ...,\n",
       "       [-0.36998499, -0.7509777 , -1.00497283, ..., -0.25886212,\n",
       "        -0.24298742, -0.14773924],\n",
       "       [-0.25886212, -0.65572952, -1.19546919, ...,  0.31262694,\n",
       "        -0.00486698, -0.49698256],\n",
       "       [-0.27473681, -0.35411029, -1.11609571, ...,  0.75711843,\n",
       "         0.64599556,  0.28087755]])"
      ]
     },
     "execution_count": 4,
     "metadata": {},
     "output_type": "execute_result"
    }
   ],
   "source": [
    "x_train = dataset_preprocessing_by_keras(x_train)\n",
    "x_train[0, :, :, 0]"
   ]
  },
  {
   "cell_type": "markdown",
   "metadata": {},
   "source": [
    "## CNN Model and Training"
   ]
  },
  {
   "cell_type": "markdown",
   "metadata": {},
   "source": [
    "We will use a custom made wrapper for tensorfllow NN training and use"
   ]
  },
  {
   "cell_type": "markdown",
   "metadata": {},
   "source": [
    "This CNN is called *dense_cnn*. Here we will explain how it is composed.\n",
    "\n",
    "The CNN is composed by several layers. In the first part there are 2 **convolutional** layers and 2 **pooling** layers (they are alternated), then there are a *flatten* layer followed by a **relu** layer, a *dropout* layer and finally a **softmax** layer.\n",
    "\n",
    "The network uses a stochastic gradient descent optimizer and a categorical crossentropy loss.  \n",
    "To judge the performance of our model we are used a MSE metric."
   ]
  },
  {
   "cell_type": "code",
   "execution_count": 5,
   "metadata": {},
   "outputs": [],
   "source": [
    "model = TfClassifier(NET_NAME, forward_pass, loss_fn, eval_fn,\n",
    "                     tf.train.AdamOptimizer())"
   ]
  },
  {
   "cell_type": "markdown",
   "metadata": {},
   "source": [
    "This network is trained for 50 epochs."
   ]
  },
  {
   "cell_type": "code",
   "execution_count": 6,
   "metadata": {},
   "outputs": [
    {
     "name": "stdout",
     "output_type": "stream",
     "text": [
      "For training: tensorboard --logdir=/tmp/log-tb/dense_cnn/training\n",
      "For validation: tensorboard --logdir=/tmp/log-tb/dense_cnn/validation\n",
      "{'accuracy': ((0.102, 0.1002), (0.102, 0.1002), (0.102, 0.1002), (0.102, 0.1002), (0.102, 0.1002), (0.102, 0.1002), (0.102, 0.1002), (0.102, 0.1002), (0.102, 0.1002), (0.102, 0.1002), (0.102, 0.1002), (0.102, 0.1002), (0.102, 0.1002), (0.102, 0.1002), (0.102, 0.1002), (0.102, 0.1002), (0.102, 0.1002), (0.102, 0.1002), (0.102, 0.1002), (0.102, 0.1002)), 'loss': (nan, nan, nan, nan, nan, nan, nan, nan, nan, nan, nan, nan, nan, nan, nan, nan, nan, nan, nan, nan)}\n"
     ]
    }
   ],
   "source": [
    "history = model.fit(\n",
    "    [x_train, t_train],\n",
    "    batch_size=32,\n",
    "    validation_split=0.1,\n",
    "    epochs=20,\n",
    "    verbosity=1,\n",
    "    keep_prob=0.5)\n",
    "\n",
    "print(history)"
   ]
  },
  {
   "cell_type": "markdown",
   "metadata": {},
   "source": [
    "Then it's evaluated"
   ]
  },
  {
   "cell_type": "code",
   "execution_count": 7,
   "metadata": {},
   "outputs": [
    {
     "name": "stdout",
     "output_type": "stream",
     "text": [
      "INFO:tensorflow:Restoring parameters from C:/Users/Davide/Desktop/CNN/aca8/cnn/models/dense_cnn/model.ckpt\n",
      "[{'logits': array([[-2.1997044e+02, -3.2214462e+02, -2.7670618e+02, ...,\n",
      "        -6.3116058e+02, -3.6231104e+02, -1.5103554e+02],\n",
      "       [-2.5991422e+02, -2.3590515e+02, -5.2669214e+02, ...,\n",
      "         1.3220389e+02, -3.2022485e+02, -5.7595203e+01],\n",
      "       [-6.0920856e+01, -3.4712967e+02, -2.1218668e+02, ...,\n",
      "        -6.7703345e+02, -4.1647598e-01, -8.3027029e+00],\n",
      "       ...,\n",
      "       [-1.2296566e+02, -2.8109644e+02, -8.8609543e+01, ...,\n",
      "        -1.8662666e+02, -2.2918500e+02, -1.8214465e+02],\n",
      "       [-6.4391699e+02, -5.5609705e+02, -1.2604508e+03, ...,\n",
      "        -1.4577312e+03, -9.8258875e+02, -4.5983090e+02],\n",
      "       [ 8.3894096e+01, -3.4208698e+02, -1.5641927e+02, ...,\n",
      "        -4.8119287e+02, -1.5576271e+02,  9.5194466e+01]], dtype=float32), 'classes': array([6, 7, 8, ..., 5, 9, 9], dtype=int64), 'probabilities': array([[1.3341164e-37, 0.0000000e+00, 0.0000000e+00, ..., 0.0000000e+00,\n",
      "        0.0000000e+00, 1.1567593e-07],\n",
      "       [0.0000000e+00, 0.0000000e+00, 0.0000000e+00, ..., 1.0000000e+00,\n",
      "        0.0000000e+00, 0.0000000e+00],\n",
      "       [5.2858977e-27, 0.0000000e+00, 0.0000000e+00, ..., 0.0000000e+00,\n",
      "        9.9962425e-01, 3.7574381e-04],\n",
      "       ...,\n",
      "       [5.3118935e-22, 0.0000000e+00, 4.4250839e-07, ..., 0.0000000e+00,\n",
      "        0.0000000e+00, 0.0000000e+00],\n",
      "       [0.0000000e+00, 0.0000000e+00, 0.0000000e+00, ..., 0.0000000e+00,\n",
      "        0.0000000e+00, 1.0000000e+00],\n",
      "       [1.2368203e-05, 0.0000000e+00, 0.0000000e+00, ..., 0.0000000e+00,\n",
      "        0.0000000e+00, 9.9998760e-01]], dtype=float32), 'accuracy': (0.0, 0.345), 'mse': (0.0, 445939.47), 'loss': 261.34323, 'summaries': b'\\n\\x0b\\n\\x04loss\\x15\\xef\\xab\\x82C\\n\\x11\\n\\naccuracy_1\\x15\\x00\\x00\\x00\\x00\\n\\n\\n\\x03mse\\x15\\x00\\x00\\x00\\x00'}, {'logits': array([[-597.839   , -548.3734  , -539.931   , ..., -345.1145  ,\n",
      "          37.237247,   70.873215],\n",
      "       [  41.93761 , -173.03949 , -348.50366 , ..., -576.29364 ,\n",
      "          70.7045  ,  -29.29375 ],\n",
      "       [  12.085466, -641.7147  ,  -84.91783 , ..., -201.56874 ,\n",
      "        -618.953   ,  -92.71889 ],\n",
      "       ...,\n",
      "       [-371.75333 , -596.3164  , -382.4016  , ..., -380.55356 ,\n",
      "        -139.51637 ,  631.66565 ],\n",
      "       [-227.3081  , -129.3963  , -226.85904 , ..., -283.3728  ,\n",
      "         -69.24831 , -207.66086 ],\n",
      "       [ -67.28647 , -225.41595 , -198.00616 , ..., -568.26874 ,\n",
      "        -448.89417 ,   20.950195]], dtype=float32), 'classes': array([9, 8, 0, ..., 9, 8, 9], dtype=int64), 'probabilities': array([[0.0000000e+00, 0.0000000e+00, 0.0000000e+00, ..., 0.0000000e+00,\n",
      "        2.4665222e-15, 1.0000000e+00],\n",
      "       [3.2114372e-13, 0.0000000e+00, 0.0000000e+00, ..., 0.0000000e+00,\n",
      "        1.0000000e+00, 0.0000000e+00],\n",
      "       [1.0000000e+00, 0.0000000e+00, 0.0000000e+00, ..., 0.0000000e+00,\n",
      "        0.0000000e+00, 0.0000000e+00],\n",
      "       ...,\n",
      "       [0.0000000e+00, 0.0000000e+00, 0.0000000e+00, ..., 0.0000000e+00,\n",
      "        0.0000000e+00, 1.0000000e+00],\n",
      "       [0.0000000e+00, 7.4912327e-27, 0.0000000e+00, ..., 0.0000000e+00,\n",
      "        9.9196339e-01, 0.0000000e+00],\n",
      "       [0.0000000e+00, 0.0000000e+00, 0.0000000e+00, ..., 0.0000000e+00,\n",
      "        0.0000000e+00, 1.0000000e+00]], dtype=float32), 'accuracy': (0.345, 0.34825), 'mse': (445939.47, 450949.03), 'loss': 266.7325, 'summaries': b'\\n\\x0b\\n\\x04loss\\x15\\xc3]\\x85C\\n\\x11\\n\\naccuracy_1\\x15\\xd7\\xa3\\xb0>\\n\\n\\n\\x03mse\\x15o\\xbe\\xd9H'}, {'logits': array([[ 287.3028  , -528.2163  , -283.3371  , ..., -797.6934  ,\n",
      "        -232.60347 , -308.30936 ],\n",
      "       [ -45.702847, -338.87317 , -136.43802 , ..., -602.47754 ,\n",
      "         -67.49455 , -112.89431 ],\n",
      "       [ 143.95485 , -373.88885 , -333.57788 , ..., -689.87634 ,\n",
      "          72.67682 ,   38.50093 ],\n",
      "       ...,\n",
      "       [-362.50052 ,  174.50584 , -393.59897 , ..., -761.0077  ,\n",
      "        -276.73785 , -676.0682  ],\n",
      "       [-434.02515 , -285.09616 , -478.4839  , ..., -390.748   ,\n",
      "        -419.5773  , -160.15373 ],\n",
      "       [-334.17664 , -648.9931  ,  -68.9395  , ..., -257.05225 ,\n",
      "        -252.33302 , -199.10504 ]], dtype=float32), 'classes': array([0, 0, 0, ..., 1, 3, 2], dtype=int64), 'probabilities': array([[1.0000000e+00, 0.0000000e+00, 0.0000000e+00, ..., 0.0000000e+00,\n",
      "        0.0000000e+00, 0.0000000e+00],\n",
      "       [1.0000000e+00, 0.0000000e+00, 0.0000000e+00, ..., 0.0000000e+00,\n",
      "        3.4354394e-10, 6.5935077e-30],\n",
      "       [1.0000000e+00, 0.0000000e+00, 0.0000000e+00, ..., 0.0000000e+00,\n",
      "        1.1075025e-31, 0.0000000e+00],\n",
      "       ...,\n",
      "       [0.0000000e+00, 1.0000000e+00, 0.0000000e+00, ..., 0.0000000e+00,\n",
      "        0.0000000e+00, 0.0000000e+00],\n",
      "       [0.0000000e+00, 0.0000000e+00, 0.0000000e+00, ..., 0.0000000e+00,\n",
      "        0.0000000e+00, 0.0000000e+00],\n",
      "       [0.0000000e+00, 0.0000000e+00, 1.0000000e+00, ..., 0.0000000e+00,\n",
      "        0.0000000e+00, 0.0000000e+00]], dtype=float32), 'accuracy': (0.34825, 0.34383333), 'mse': (450949.03, 443747.97), 'loss': 265.45197, 'summaries': b'\\n\\x0b\\n\\x04loss\\x15\\xda\\xb9\\x84C\\n\\x11\\n\\naccuracy_1\\x15\\xd3M\\xb2>\\n\\n\\n\\x03mse\\x15\\xa10\\xdcH'}, {'logits': array([[-2.7360519e+02, -5.1211566e+02, -3.2538028e+02, ...,\n",
      "        -1.0981379e+03, -3.4320703e+02, -5.5012375e+01],\n",
      "       [-1.5139877e+02, -5.4380066e+02, -4.4656311e+02, ...,\n",
      "        -2.8757404e+02, -5.2925289e+01,  3.0680466e+02],\n",
      "       [-3.7896350e+02, -3.1242841e+02, -1.1098317e+02, ...,\n",
      "        -5.2923969e+01, -3.7685553e+02, -8.3162201e+01],\n",
      "       ...,\n",
      "       [-6.5194666e+02, -2.3466909e+03, -1.0492770e+03, ...,\n",
      "        -1.1439651e+03, -6.4492841e+02, -1.8538215e+03],\n",
      "       [-6.0851721e+02, -5.6028308e+02, -6.3900342e+02, ...,\n",
      "        -7.3725690e+02, -7.6828766e+01,  1.1171509e+02],\n",
      "       [-2.8238211e+02, -1.9206924e+00, -1.4809718e+02, ...,\n",
      "        -2.3360039e+02, -7.0570618e+01, -1.4609235e+02]], dtype=float32), 'classes': array([9, 9, 7, ..., 5, 9, 1], dtype=int64), 'probabilities': array([[0.0000000e+00, 0.0000000e+00, 0.0000000e+00, ..., 0.0000000e+00,\n",
      "        0.0000000e+00, 1.0000000e+00],\n",
      "       [0.0000000e+00, 0.0000000e+00, 0.0000000e+00, ..., 0.0000000e+00,\n",
      "        0.0000000e+00, 1.0000000e+00],\n",
      "       [0.0000000e+00, 0.0000000e+00, 6.0983126e-26, ..., 1.0000000e+00,\n",
      "        0.0000000e+00, 7.3739951e-14],\n",
      "       ...,\n",
      "       [0.0000000e+00, 0.0000000e+00, 0.0000000e+00, ..., 0.0000000e+00,\n",
      "        0.0000000e+00, 0.0000000e+00],\n",
      "       [0.0000000e+00, 0.0000000e+00, 0.0000000e+00, ..., 0.0000000e+00,\n",
      "        0.0000000e+00, 1.0000000e+00],\n",
      "       [0.0000000e+00, 1.0000000e+00, 0.0000000e+00, ..., 0.0000000e+00,\n",
      "        1.5336148e-30, 0.0000000e+00]], dtype=float32), 'accuracy': (0.34383333, 0.344), 'mse': (443747.97, 441558.3), 'loss': 266.22046, 'summaries': b'\\n\\x0b\\n\\x04loss\\x158\\x1c\\x85C\\n\\x11\\n\\naccuracy_1\\x15\\xec\\n\\xb0>\\n\\n\\n\\x03mse\\x15\\x7f\\xac\\xd8H'}, {'logits': array([[-128.09607  , -183.58653  , -212.9812   , ..., -126.75003  ,\n",
      "        -350.94818  ,   47.95594  ],\n",
      "       [-140.86093  , -543.3369   , -350.3009   , ...,  -83.10309  ,\n",
      "        -315.30038  , -117.49808  ],\n",
      "       [  -0.9274642, -109.36223  ,  -20.857267 , ..., -157.81021  ,\n",
      "        -156.04138  , -121.6708   ],\n",
      "       ...,\n",
      "       [ 146.543    , -178.73303  , -279.43118  , ..., -724.6996   ,\n",
      "        -104.57045  , -220.33405  ],\n",
      "       [-241.44185  , -793.8585   , -154.36545  , ..., -394.37268  ,\n",
      "        -138.66745  ,  133.00027  ],\n",
      "       [-579.0801   , -273.73706  , -701.15814  , ...,  723.9288   ,\n",
      "        -627.3512   , -390.90717  ]], dtype=float32), 'classes': array([9, 7, 0, ..., 0, 9, 7], dtype=int64), 'probabilities': array([[0.0000000e+00, 0.0000000e+00, 0.0000000e+00, ..., 0.0000000e+00,\n",
      "        0.0000000e+00, 1.0000000e+00],\n",
      "       [8.2430418e-26, 0.0000000e+00, 0.0000000e+00, ..., 1.0000000e+00,\n",
      "        0.0000000e+00, 1.1546386e-15],\n",
      "       [1.0000000e+00, 0.0000000e+00, 2.2110378e-09, ..., 0.0000000e+00,\n",
      "        0.0000000e+00, 0.0000000e+00],\n",
      "       ...,\n",
      "       [1.0000000e+00, 0.0000000e+00, 0.0000000e+00, ..., 0.0000000e+00,\n",
      "        0.0000000e+00, 0.0000000e+00],\n",
      "       [0.0000000e+00, 0.0000000e+00, 0.0000000e+00, ..., 0.0000000e+00,\n",
      "        0.0000000e+00, 1.0000000e+00],\n",
      "       [0.0000000e+00, 0.0000000e+00, 0.0000000e+00, ..., 1.0000000e+00,\n",
      "        0.0000000e+00, 0.0000000e+00]], dtype=float32), 'accuracy': (0.344, 0.347), 'mse': (441558.3, 442359.3), 'loss': 253.25331, 'summaries': b'\\n\\x0b\\n\\x04loss\\x15\\xd9@}C\\n\\x11\\n\\naccuracy_1\\x15\\xc5 \\xb0>\\n\\n\\n\\x03mse\\x15\\xca\\x9a\\xd7H'}]\n"
     ]
    }
   ],
   "source": [
    "evals = model.evaluate([x_test, t_test])\n",
    "\n",
    "print(evals)"
   ]
  },
  {
   "cell_type": "markdown",
   "metadata": {},
   "source": [
    "## Optimization Transform"
   ]
  },
  {
   "cell_type": "code",
   "execution_count": 8,
   "metadata": {},
   "outputs": [],
   "source": [
    "import numpy as np\n",
    "import tensorflow as tf\n",
    "from tensorflow.python.framework import graph_io, graph_util\n",
    "from tensorflow.tools.graph_transforms import TransformGraph\n",
    "\n",
    "from cnn.dense import (NET_NAME, dataset_preprocessing_by_keras, eval_fn,\n",
    "                       forward_pass, loss_fn)\n",
    "from cnn.model_class import MODELS_DIR, TfClassifier\n",
    "from cnn.utils.dataset import load_cifar10\n",
    "from cnn.utils.save_models import load_frozen_graph\n",
    "\n",
    "model = TfClassifier(NET_NAME, forward_pass, loss_fn, eval_fn,\n",
    "                     tf.train.AdamOptimizer())"
   ]
  },
  {
   "cell_type": "code",
   "execution_count": 9,
   "metadata": {},
   "outputs": [
    {
     "name": "stdout",
     "output_type": "stream",
     "text": [
      "INFO:tensorflow:Restoring parameters from C:/Users/Davide/Desktop/CNN/aca8/cnn/models/dense_cnn/model.ckpt\n",
      "INFO:tensorflow:Froze 8 variables.\n",
      "Converted 8 variables to const ops.\n"
     ]
    },
    {
     "data": {
      "text/plain": [
       "[<tf.Operation 'logits/bias' type=Const>,\n",
       " <tf.Operation 'logits/kernel' type=Const>,\n",
       " <tf.Operation 'dense/bias' type=Const>,\n",
       " <tf.Operation 'dense/kernel' type=Const>,\n",
       " <tf.Operation 'flatten/Reshape/shape/1' type=Const>,\n",
       " <tf.Operation 'flatten/strided_slice/stack_2' type=Const>,\n",
       " <tf.Operation 'flatten/strided_slice/stack_1' type=Const>,\n",
       " <tf.Operation 'flatten/strided_slice/stack' type=Const>,\n",
       " <tf.Operation 'conv2d_1/bias' type=Const>,\n",
       " <tf.Operation 'conv2d_1/kernel' type=Const>,\n",
       " <tf.Operation 'conv2d/bias' type=Const>,\n",
       " <tf.Operation 'conv2d/kernel' type=Const>,\n",
       " <tf.Operation 'features' type=Placeholder>,\n",
       " <tf.Operation 'conv2d/Conv2D' type=Conv2D>,\n",
       " <tf.Operation 'conv2d/BiasAdd' type=BiasAdd>,\n",
       " <tf.Operation 'conv2d/Relu' type=Relu>,\n",
       " <tf.Operation 'max_pooling2d/MaxPool' type=MaxPool>,\n",
       " <tf.Operation 'conv2d_1/Conv2D' type=Conv2D>,\n",
       " <tf.Operation 'conv2d_1/BiasAdd' type=BiasAdd>,\n",
       " <tf.Operation 'conv2d_1/Relu' type=Relu>,\n",
       " <tf.Operation 'max_pooling2d_1/MaxPool' type=MaxPool>,\n",
       " <tf.Operation 'flatten/Shape' type=Shape>,\n",
       " <tf.Operation 'flatten/strided_slice' type=StridedSlice>,\n",
       " <tf.Operation 'flatten/Reshape/shape' type=Pack>,\n",
       " <tf.Operation 'flatten/Reshape' type=Reshape>,\n",
       " <tf.Operation 'dense/MatMul' type=MatMul>,\n",
       " <tf.Operation 'dense/BiasAdd' type=BiasAdd>,\n",
       " <tf.Operation 'dense/Relu' type=Relu>,\n",
       " <tf.Operation 'logits/MatMul' type=MatMul>,\n",
       " <tf.Operation 'logits/BiasAdd' type=BiasAdd>,\n",
       " <tf.Operation 'softmax' type=Softmax>]"
      ]
     },
     "execution_count": 9,
     "metadata": {},
     "output_type": "execute_result"
    }
   ],
   "source": [
    "opt_graph = model.optimize_for_inference()\n",
    "opt_graph.get_operations()"
   ]
  }
 ],
 "metadata": {
  "kernelspec": {
   "display_name": "Python tfp3.6",
   "language": "python",
   "name": "tfp3.6"
  },
  "language_info": {
   "codemirror_mode": {
    "name": "ipython",
    "version": 3
   },
   "file_extension": ".py",
   "mimetype": "text/x-python",
   "name": "python",
   "nbconvert_exporter": "python",
   "pygments_lexer": "ipython3",
   "version": "3.6.5"
  }
 },
 "nbformat": 4,
 "nbformat_minor": 2
}
