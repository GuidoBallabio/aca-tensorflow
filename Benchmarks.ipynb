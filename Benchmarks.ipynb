{
 "cells": [
  {
   "cell_type": "markdown",
   "metadata": {},
   "source": [
    "# Benchmarks"
   ]
  },
  {
   "cell_type": "markdown",
   "metadata": {},
   "source": [
    "## Prep "
   ]
  },
  {
   "cell_type": "code",
   "execution_count": 1,
   "metadata": {},
   "outputs": [
    {
     "name": "stderr",
     "output_type": "stream",
     "text": [
      "/home/m/myvenv3/lib/python3.6/site-packages/h5py/__init__.py:36: FutureWarning: Conversion of the second argument of issubdtype from `float` to `np.floating` is deprecated. In future, it will be treated as `np.float64 == np.dtype(float).type`.\n",
      "  from ._conv import register_converters as _register_converters\n"
     ]
    }
   ],
   "source": [
    "import numpy as np\n",
    "from sklearn.metrics import accuracy_score\n",
    "\n",
    "from cnn.utils.graph_manipulation import load_frozen_graph, predict_from_frozen\n",
    "from cnn.utils.dataset import load_cifar10, dataset_preprocessing_by_keras"
   ]
  },
  {
   "cell_type": "code",
   "execution_count": 2,
   "metadata": {},
   "outputs": [],
   "source": [
    "pyperf = !find ~ -iname pyperf 2>/dev/null\n",
    "pyperf = pyperf[0]"
   ]
  },
  {
   "cell_type": "code",
   "execution_count": 3,
   "metadata": {},
   "outputs": [],
   "source": [
    "nets = [\"dense\", \"conv\", \"medium\"]\n",
    "names = [[n + \"_opt\", n + \"_quant\"] for n in nets]\n",
    "frozen_nets = [[\"models/\" + n + \".pb\"  for n in both] for both in names]\n",
    "results_files = [[\"results/\" + n + \".json\"  for n in both] for both in names]"
   ]
  },
  {
   "cell_type": "markdown",
   "metadata": {},
   "source": [
    "## Check accuracy "
   ]
  },
  {
   "cell_type": "code",
   "execution_count": 6,
   "metadata": {},
   "outputs": [],
   "source": [
    "_, _, x_test, t_test = load_cifar10()\n",
    "x_test = dataset_preprocessing_by_keras(x_test)"
   ]
  },
  {
   "cell_type": "code",
   "execution_count": 7,
   "metadata": {},
   "outputs": [
    {
     "name": "stdout",
     "output_type": "stream",
     "text": [
      "models/dense_opt.pb   : 0.6358 accuracy\n",
      "models/dense_quant.pb :  0.622 accuracy\n",
      "models/conv_opt.pb    : 0.7345 accuracy\n",
      "models/conv_quant.pb  : 0.7348 accuracy\n",
      "models/medium_opt.pb  : 0.6461 accuracy\n",
      "models/medium_quant.pb: 0.6476 accuracy\n"
     ]
    }
   ],
   "source": [
    "for pb_files in frozen_nets:\n",
    "    for m in pb_files:\n",
    "        graph = load_frozen_graph(m)\n",
    "        out = predict_from_frozen(graph, [x_test], [\"features\"], [\"classes:0\", \"softmax:0\"])\n",
    "        classes = np.concatenate([batch[0] for batch in out])\n",
    "        acc = accuracy_score(np.argmax(t_test, axis=1), classes)\n",
    "        print(f\"{m:22}: {acc:6} accuracy\")"
   ]
  },
  {
   "cell_type": "markdown",
   "metadata": {},
   "source": [
    "## Time comparisons "
   ]
  },
  {
   "cell_type": "code",
   "execution_count": 4,
   "metadata": {},
   "outputs": [
    {
     "name": "stdout",
     "output_type": "stream",
     "text": [
      "1-batch: Mean +- std dev: 2.78 sec +- 0.02 sec\n",
      "16-batch: Mean +- std dev: 875 ms +- 7 ms\n",
      "64-batch: Mean +- std dev: 675 ms +- 2 ms\n",
      "1-batch: Mean +- std dev: 1.44 sec +- 0.04 sec\n",
      "16-batch: Mean +- std dev: 742 ms +- 34 ms\n",
      "64-batch: Mean +- std dev: 738 ms +- 11 ms\n",
      "1-batch: Mean +- std dev: 2.95 sec +- 0.04 sec\n",
      "16-batch: Mean +- std dev: 1.40 sec +- 0.07 sec\n",
      "64-batch: Mean +- std dev: 1.25 sec +- 0.00 sec\n"
     ]
    }
   ],
   "source": [
    "for r in results_files:\n",
    "    !{pyperf} show {r[0]} --quiet"
   ]
  },
  {
   "cell_type": "code",
   "execution_count": 5,
   "metadata": {},
   "outputs": [
    {
     "name": "stdout",
     "output_type": "stream",
     "text": [
      "+-----------+-----------+--------------------------------+\n",
      "| Benchmark | dense_opt | dense_quant                    |\n",
      "+===========+===========+================================+\n",
      "| 1-batch   | 2.78 sec  | 7.92 sec: 2.85x slower (+185%) |\n",
      "+-----------+-----------+--------------------------------+\n",
      "| 16-batch  | 875 ms    | 1.78 sec: 2.03x slower (+103%) |\n",
      "+-----------+-----------+--------------------------------+\n",
      "| 64-batch  | 675 ms    | 1.40 sec: 2.08x slower (+108%) |\n",
      "+-----------+-----------+--------------------------------+\n",
      "+-----------+----------+--------------------------------+\n",
      "| Benchmark | conv_opt | conv_quant                     |\n",
      "+===========+==========+================================+\n",
      "| 1-batch   | 1.44 sec | 4.74 sec: 3.30x slower (+230%) |\n",
      "+-----------+----------+--------------------------------+\n",
      "| 16-batch  | 742 ms   | 2.78 sec: 3.75x slower (+275%) |\n",
      "+-----------+----------+--------------------------------+\n",
      "| 64-batch  | 738 ms   | 2.58 sec: 3.50x slower (+250%) |\n",
      "+-----------+----------+--------------------------------+\n",
      "+-----------+------------+--------------------------------+\n",
      "| Benchmark | medium_opt | medium_quant                   |\n",
      "+===========+============+================================+\n",
      "| 1-batch   | 2.95 sec   | 8.53 sec: 2.89x slower (+189%) |\n",
      "+-----------+------------+--------------------------------+\n",
      "| 16-batch  | 1.40 sec   | 2.76 sec: 1.97x slower (+97%)  |\n",
      "+-----------+------------+--------------------------------+\n",
      "| 64-batch  | 1.25 sec   | 2.38 sec: 1.91x slower (+91%)  |\n",
      "+-----------+------------+--------------------------------+\n"
     ]
    }
   ],
   "source": [
    "for r in results_files:\n",
    "    !{pyperf} compare_to {r[0]} {r[1]} --table"
   ]
  },
  {
   "cell_type": "code",
   "execution_count": null,
   "metadata": {},
   "outputs": [],
   "source": []
  }
 ],
 "metadata": {
  "kernelspec": {
   "display_name": "Python myvenv3",
   "language": "python",
   "name": "myvenv3"
  },
  "language_info": {
   "codemirror_mode": {
    "name": "ipython",
    "version": 3
   },
   "file_extension": ".py",
   "mimetype": "text/x-python",
   "name": "python",
   "nbconvert_exporter": "python",
   "pygments_lexer": "ipython3",
   "version": "3.6.5"
  }
 },
 "nbformat": 4,
 "nbformat_minor": 2
}
