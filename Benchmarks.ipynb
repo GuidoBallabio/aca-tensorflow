{
 "cells": [
  {
   "cell_type": "code",
   "execution_count": 1,
   "metadata": {},
   "outputs": [],
   "source": [
    "nets = [\"dense\"]\n",
    "names = [[n + \"_opt\", n + \"_quant\"] for n in nets]\n",
    "results_files = [\"results/\" + n + \".json\" for both in names for n in both]"
   ]
  },
  {
   "cell_type": "code",
   "execution_count": 2,
   "metadata": {},
   "outputs": [
    {
     "name": "stdout",
     "output_type": "stream",
     "text": [
      "max_batch: Mean +- std dev: 890 ms +- 9 ms\n",
      "single_sample: Mean +- std dev: 904 ms +- 14 ms\n"
     ]
    }
   ],
   "source": [
    "%run -m perf show {results_files[0]}"
   ]
  },
  {
   "cell_type": "code",
   "execution_count": 2,
   "metadata": {},
   "outputs": [
    {
     "name": "stdout",
     "output_type": "stream",
     "text": [
      "max_batch: Mean +- std dev: 23.9 sec +- 0.3 sec\n",
      "single_sample: Mean +- std dev: 26.8 sec +- 3.1 sec\n"
     ]
    }
   ],
   "source": [
    "%run -m perf show {results_files[1]} --quiet"
   ]
  },
  {
   "cell_type": "code",
   "execution_count": 2,
   "metadata": {},
   "outputs": [
    {
     "name": "stdout",
     "output_type": "stream",
     "text": [
      "+---------------+-----------+----------------------------------+\n",
      "| Benchmark     | dense_opt | dense_quant                      |\n",
      "+===============+===========+==================================+\n",
      "| max_batch     | 890 ms    | 23.9 sec: 26.81x slower (+2581%) |\n",
      "+---------------+-----------+----------------------------------+\n",
      "| single_sample | 904 ms    | 26.8 sec: 29.67x slower (+2867%) |\n",
      "+---------------+-----------+----------------------------------+\n"
     ]
    }
   ],
   "source": [
    "%run -m perf compare_to {results_files[0]} {results_files[1]} --table"
   ]
  }
 ],
 "metadata": {
  "kernelspec": {
   "display_name": "aca",
   "language": "python",
   "name": "aca"
  },
  "language_info": {
   "codemirror_mode": {
    "name": "ipython",
    "version": 3
   },
   "file_extension": ".py",
   "mimetype": "text/x-python",
   "name": "python",
   "nbconvert_exporter": "python",
   "pygments_lexer": "ipython3",
   "version": "3.6.5"
  }
 },
 "nbformat": 4,
 "nbformat_minor": 2
}
