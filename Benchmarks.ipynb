{
 "cells": [
  {
   "cell_type": "markdown",
   "metadata": {},
   "source": [
    "# Benchmarks"
   ]
  },
  {
   "cell_type": "markdown",
   "metadata": {},
   "source": [
    "## Prep "
   ]
  },
  {
   "cell_type": "code",
   "execution_count": 9,
   "metadata": {},
   "outputs": [],
   "source": [
    "import numpy as np\n",
    "from sklearn.metrics import accuracy_score\n",
    "\n",
    "from cnn.utils.graph_manipulation import load_frozen_graph, predict_from_frozen\n",
    "from cnn.utils.dataset import load_cifar10, dataset_preprocessing_by_keras"
   ]
  },
  {
   "cell_type": "code",
   "execution_count": 2,
   "metadata": {},
   "outputs": [],
   "source": [
    "pyperf = !find ~ -iname pyperf 2>/dev/null\n",
    "pyperf = pyperf[0]"
   ]
  },
  {
   "cell_type": "code",
   "execution_count": 3,
   "metadata": {},
   "outputs": [],
   "source": [
    "nets = [\"dense\", \"conv\", \"medium\"]\n",
    "names = [[n + \"_opt\", n + \"_quant\"] for n in nets]\n",
    "frozen_nets = [[\"models/\" + n + \".pb\"  for n in both] for both in names]\n",
    "results_files = [[\"results/\" + n + \".json\"  for n in both] for both in names]"
   ]
  },
  {
   "cell_type": "markdown",
   "metadata": {},
   "source": [
    "## Check accuracy "
   ]
  },
  {
   "cell_type": "code",
   "execution_count": 4,
   "metadata": {},
   "outputs": [],
   "source": [
    "_, _, x_test, t_test = load_cifar10()\n",
    "x_test = dataset_preprocessing_by_keras(x_test)"
   ]
  },
  {
   "cell_type": "code",
   "execution_count": 43,
   "metadata": {},
   "outputs": [
    {
     "name": "stdout",
     "output_type": "stream",
     "text": [
      "models/dense_opt.pb   : 0.6358 accuracy\n",
      "models/dense_quant.pb :  0.622 accuracy\n",
      "models/conv_opt.pb    : 0.7345 accuracy\n",
      "models/conv_quant.pb  : 0.7348 accuracy\n",
      "models/medium_opt.pb  : 0.6461 accuracy\n",
      "models/medium_quant.pb: 0.6476 accuracy\n"
     ]
    }
   ],
   "source": [
    "for pb_files in frozen_nets:\n",
    "    for m in pb_files:\n",
    "        graph = load_frozen_graph(m)\n",
    "        out = predict_from_frozen(graph, [x_test], [\"features\"], [\"classes:0\", \"softmax:0\"])\n",
    "        classes = np.concatenate([batch[0] for batch in out])\n",
    "        acc = accuracy_score(np.argmax(t_test, axis=1), classes)\n",
    "        print(f\"{m:22}: {acc:6} accuracy\")"
   ]
  },
  {
   "cell_type": "markdown",
   "metadata": {},
   "source": [
    "## Time comparisons "
   ]
  },
  {
   "cell_type": "code",
   "execution_count": null,
   "metadata": {},
   "outputs": [],
   "source": [
    "for r in results_files:\n",
    "    !{pyperf} show {r[0]} --quiet"
   ]
  },
  {
   "cell_type": "code",
   "execution_count": null,
   "metadata": {},
   "outputs": [],
   "source": [
    "for r in results_files:\n",
    "    !{pyperf} compare_to {r[0]} {r[1]} --table"
   ]
  }
 ],
 "metadata": {
  "kernelspec": {
   "display_name": "aca",
   "language": "python",
   "name": "aca"
  },
  "language_info": {
   "codemirror_mode": {
    "name": "ipython",
    "version": 3
   },
   "file_extension": ".py",
   "mimetype": "text/x-python",
   "name": "python",
   "nbconvert_exporter": "python",
   "pygments_lexer": "ipython3",
   "version": "3.6.5"
  }
 },
 "nbformat": 4,
 "nbformat_minor": 2
}
